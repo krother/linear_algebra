{
 "cells": [
  {
   "cell_type": "markdown",
   "id": "9c51e1bd-86b9-42f0-a486-92accfc73e03",
   "metadata": {
    "editable": true,
    "slideshow": {
     "slide_type": "slide"
    },
    "tags": []
   },
   "source": [
    "## Vectors"
   ]
  },
  {
   "cell_type": "markdown",
   "id": "e80b4328-87a0-48ff-be04-74cf3ea73e6f",
   "metadata": {
    "editable": true,
    "slideshow": {
     "slide_type": ""
    },
    "tags": []
   },
   "source": [
    "$$\\vec{a} = \\begin{pmatrix} a_1 \\\\ a_2 \\\\ a_3 \\end{pmatrix}$$"
   ]
  },
  {
   "cell_type": "markdown",
   "id": "3357241a-8c07-4f73-836a-3f9f365c4cf1",
   "metadata": {
    "editable": true,
    "slideshow": {
     "slide_type": ""
    },
    "tags": []
   },
   "source": [
    "$$a_i \\in {\\rm I\\!R}$$"
   ]
  },
  {
   "cell_type": "markdown",
   "id": "ac9c4d05-e57f-43c6-b981-d6f12028b358",
   "metadata": {
    "editable": true,
    "slideshow": {
     "slide_type": "subslide"
    },
    "tags": []
   },
   "source": [
    "### Scalar Multiplication"
   ]
  },
  {
   "cell_type": "markdown",
   "id": "fb6316fb-8363-45f0-875f-2af1c1e965fe",
   "metadata": {
    "editable": true,
    "slideshow": {
     "slide_type": ""
    },
    "tags": []
   },
   "source": [
    "$$3\\vec{a} = \\begin{pmatrix} 3a_1 \\\\ 3a_2 \\\\ 3a_3 \\end{pmatrix}$$"
   ]
  },
  {
   "cell_type": "markdown",
   "id": "db05d120-1d90-430f-88ba-2945658942e5",
   "metadata": {},
   "source": [
    "$$\\vec{a} \\circ \\vec{b} = \\begin{pmatrix} a_1 b_1 \\\\ a_2 b_2 \\\\ a_3 b_3 \\end{pmatrix}$$"
   ]
  },
  {
   "cell_type": "markdown",
   "id": "6f15e862-5acb-42c1-912f-7b9de6140167",
   "metadata": {},
   "source": [
    "$$\\vec{a} \\cdot \\vec{b} = \\sum_i a_i b_i$$"
   ]
  },
  {
   "cell_type": "markdown",
   "id": "5e508bbc-c2c3-485f-a6f1-4b7c20035fb6",
   "metadata": {},
   "source": [
    "$$\\vec{a} \\times \\vec{b} = \\begin{pmatrix} a_2 b_3 - a_3 b_2 \\\\ a_3 b_1 - a_1 b_3 \\\\ a_1 b_2 - a_2 b_1 \\end{pmatrix}$$"
   ]
  },
  {
   "cell_type": "markdown",
   "id": "26b52d39-c979-43dc-a417-4cfeb1c8c41a",
   "metadata": {},
   "source": [
    "$$D = \\begin{pmatrix} d_{11} & d_{12} \\\\ d_{21} & d_{22} \\\\ d_{31} & d_{32} \\end{pmatrix}$$"
   ]
  },
  {
   "cell_type": "markdown",
   "id": "a7da4569-3e73-4d0c-a154-a6f383204c0c",
   "metadata": {},
   "source": [
    "$$3D = \\begin{pmatrix} 3d_{11} & 3d_{12} \\\\ 3d_{21} & 3d_{22} \\\\ 3d_{31} & 3d_{32}\\end{pmatrix}$$"
   ]
  },
  {
   "cell_type": "markdown",
   "id": "f5c998f3-b7fc-4a6f-b999-5257e254acae",
   "metadata": {},
   "source": [
    "$$D^T = \\begin{pmatrix} d_{11} & d_{21} & d_{31} \\\\ d_{12} & d_{22} & d_{32}\\end{pmatrix}$$"
   ]
  },
  {
   "cell_type": "markdown",
   "id": "b2c86a05-dd38-4042-8103-c800c95b0285",
   "metadata": {},
   "source": [
    "$$\\vec{c} = \\begin{pmatrix} c_1 \\\\ c_2 \\end{pmatrix}$$"
   ]
  },
  {
   "cell_type": "markdown",
   "id": "7bc57095-0c62-4902-b67a-0605341f96ba",
   "metadata": {},
   "source": [
    "$$D\\vec{c} = \\begin{pmatrix} d_{11} & d_{12} \\\\ d_{21} & d_{22} \\\\ d_{31} & d_{32} \\end{pmatrix} \\begin{pmatrix} c_1 \\\\ c_2 \\end{pmatrix} = \\begin{pmatrix} d_{11} c_1 + d_{12} c_2 \\\\ d_{21} c_1 + d_{22} c_2 \\\\ d_{31} c_1 + d_{32} c_2 \\end{pmatrix}$$"
   ]
  },
  {
   "cell_type": "markdown",
   "id": "b7d4a1c3-9095-4b9c-b04e-7d51bd630501",
   "metadata": {},
   "source": [
    "$$\\vec{a}^T D = \\begin{pmatrix} a_1 & a_2 & a_3 \\end{pmatrix} \\begin{pmatrix} d_{11} & d_{12} \\\\ d_{21} & d_{22} \\\\ d_{31} & d_{32} \\end{pmatrix} = \\begin{pmatrix} a_1 d_{11} + a_2 d_{21} + a_3 d_{31} \\\\ a_1 d_{12} + a_2 d_{22} + a_3 d_{32} \\end{pmatrix}$$"
   ]
  },
  {
   "cell_type": "markdown",
   "id": "a9c24de6-e46e-41f6-b194-4fdf77310984",
   "metadata": {},
   "source": [
    "$$A = \\begin{pmatrix} a_{11} & a_{12} & a_{13} \\\\ a_{21} & a_{22} & a_{23} \\\\ a_{31} & a_{32} & a_{33} \\end{pmatrix}$$"
   ]
  },
  {
   "cell_type": "markdown",
   "id": "6e480a5c-a03e-41ad-92d6-8add436af33e",
   "metadata": {},
   "source": [
    "$$A = \\begin{pmatrix} 1 & 0 & 0 \\\\ 0 & 1 & 0 \\\\ 0 & 0 & 1 \\end{pmatrix}$$"
   ]
  },
  {
   "cell_type": "markdown",
   "id": "2e359fac-348b-4843-b53f-5dbdf746765e",
   "metadata": {},
   "source": [
    "$$\\hat y = X \\vec{w} + \\vec{\\epsilon}$$"
   ]
  },
  {
   "cell_type": "markdown",
   "id": "66d73059-9564-4157-80f3-9a24725f6ad1",
   "metadata": {},
   "source": [
    "$$D = \\begin{pmatrix} d_{11} & d_{12} \\\\ d_{21} & d_{22} \\\\ d_{31} & d_{32} \\end{pmatrix}$$"
   ]
  },
  {
   "cell_type": "markdown",
   "id": "cf13fb13-af98-480b-b5e7-e7ae550c6c5d",
   "metadata": {},
   "source": [
    "$$E = \\begin{pmatrix} e_{11} & e_{12} & e_{13} \\\\ e_{21} & e_{22} & e_{23} \\end{pmatrix}$$"
   ]
  },
  {
   "cell_type": "markdown",
   "id": "7203610f-e473-4f51-ac6e-fbd40262877e",
   "metadata": {},
   "source": [
    "$$DE = \\begin{pmatrix} d_{11} & d_{12} \\\\ d_{21} & d_{22} \\\\ d_{31} & d_{32} \\end{pmatrix} \\begin{pmatrix} e_{11} & e_{12} & e_{13} \\\\ e_{21} & e_{22} & e_{23} \\end{pmatrix} = \\begin{pmatrix}\n",
    "d_{11} e_{11} + d_{12} e_{21} & d_{11} e_{12} + d_{12} e_{22} & d_{11} e_{13} + d_{12} e_{23} \\\\\n",
    "d_{21} e_{11} + d_{22} e_{21} & d_{21} e_{12} + d_{22} e_{22} & d_{21} e_{13} + d_{22} e_{23} \\\\\n",
    "d_{31} e_{11} + d_{32} e_{21} & d_{31} e_{12} + d_{32} e_{22} & d_{31} e_{13} + d_{32} e_{23} \\end{pmatrix}$$"
   ]
  },
  {
   "cell_type": "markdown",
   "id": "6c5e14bd-d50d-4cf4-8a84-8d9d37ab3e57",
   "metadata": {},
   "source": [
    "$$ED = \\begin{pmatrix} e_{11} & e_{12} & e_{13} \\\\ e_{21} & e_{22} & e_{23} \\end{pmatrix} \\begin{pmatrix} d_{11} & d_{12} \\\\ d_{21} & d_{22} \\\\ d_{31} & d_{32} \\end{pmatrix} = \\begin{pmatrix}\n",
    "e_{11} d_{11} + e_{12} d_{21} + e_{13} d_{31} & e_{11} d_{12} + e_{12} d_{22} + e_{13} d_{32} \\\\\n",
    "e_{21} d_{11} + e_{22} d_{21} + e_{23} d_{31} & e_{21} d_{12} + e_{22} d_{22} + e_{23} d_{32}\n",
    "\\end{pmatrix} $$"
   ]
  },
  {
   "cell_type": "markdown",
   "id": "b73421dc-3e00-431b-b2ae-867e916943f0",
   "metadata": {},
   "source": [
    "$$D^TE^T = (ED)^T$$"
   ]
  },
  {
   "cell_type": "markdown",
   "id": "9764ee19-f511-4877-b405-48183d993555",
   "metadata": {},
   "source": [
    "$$R_{90} = \\begin{pmatrix} 0 & 1 \\\\ -1 & 0 \\end{pmatrix}$$"
   ]
  },
  {
   "cell_type": "markdown",
   "id": "221d8b2d-b40e-4d16-b86b-e8d33be4f05f",
   "metadata": {},
   "source": [
    "$$R(\\theta) = \\begin{pmatrix} cos \\theta & sin \\theta \\\\ -sin \\theta & cos \\theta \\end{pmatrix} $$"
   ]
  },
  {
   "cell_type": "markdown",
   "id": "ceef16c3-d352-438b-8060-adad140d08e0",
   "metadata": {},
   "source": [
    "$$det(R(\\theta)) = 1$$"
   ]
  },
  {
   "cell_type": "markdown",
   "id": "6da40b41-7651-4e02-b05c-52235fb5ee62",
   "metadata": {},
   "source": [
    "$$R_x(\\theta) = \\begin{pmatrix}\n",
    "1 & 0 & 0 \\\\\n",
    "0 & cos \\theta & -sin \\theta \\\\\n",
    "0 & sin \\theta & cos \\theta \\end{pmatrix} $$"
   ]
  },
  {
   "cell_type": "code",
   "execution_count": null,
   "id": "017f8725-a721-409e-9df7-e612113ebfa0",
   "metadata": {},
   "outputs": [],
   "source": []
  }
 ],
 "metadata": {
  "kernelspec": {
   "display_name": "Python 3 (ipykernel)",
   "language": "python",
   "name": "python3"
  },
  "language_info": {
   "codemirror_mode": {
    "name": "ipython",
    "version": 3
   },
   "file_extension": ".py",
   "mimetype": "text/x-python",
   "name": "python",
   "nbconvert_exporter": "python",
   "pygments_lexer": "ipython3",
   "version": "3.13.3"
  },
  "toc": {
   "base_numbering": 1
  }
 },
 "nbformat": 4,
 "nbformat_minor": 5
}
