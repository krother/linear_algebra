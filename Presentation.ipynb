{
 "cells": [
  {
   "cell_type": "markdown",
   "id": "228f2b64-19d0-47df-81c4-b0d7289d8482",
   "metadata": {
    "editable": true,
    "slideshow": {
     "slide_type": "slide"
    },
    "tags": []
   },
   "source": [
    "# The Geometry of Data\n",
    "\n",
    "**Linear Algebra in Practice**\n",
    "\n",
    "![title image](images/title.png)\n",
    "\n",
    "**Dr. Kristian Rother**"
   ]
  },
  {
   "cell_type": "markdown",
   "id": "36df4886-7d92-4ec2-97cb-734b7e5af240",
   "metadata": {
    "editable": true,
    "slideshow": {
     "slide_type": "subslide"
    },
    "tags": []
   },
   "source": [
    "# Goal of this Workshop\n",
    "\n",
    "1. introduce fundamentals\n",
    "2. execute Python code for linear algebra\n",
    "3. create plots and pictures\n",
    "\n",
    "## Your host: Dr. Kristian Rother\n",
    "\n",
    "- PhD on 3D structures of molecules (HU Berlin)\n",
    "- using Python since 1999\n",
    "- freelance trainer since 2011"
   ]
  },
  {
   "cell_type": "markdown",
   "id": "6ed1780d-7c89-42c5-8615-2b25511d3787",
   "metadata": {
    "editable": true,
    "slideshow": {
     "slide_type": "subslide"
    },
    "tags": []
   },
   "source": [
    "# Exercises\n",
    "\n",
    "- Python exercises on www.academis.eu/linear_algebra\n",
    "- best executed with Jupyter or Google Colab\n",
    "- used libraries: `numpy`, `pandas`, `seaborn`, `matplotlib`"
   ]
  },
  {
   "cell_type": "markdown",
   "id": "35ba55b7-8d0c-4900-8112-d3724661389b",
   "metadata": {
    "editable": true,
    "slideshow": {
     "slide_type": "slide"
    },
    "tags": []
   },
   "source": [
    "# Overview\n",
    "\n",
    "![Linear Algebra Mind Map](images/mind_map.png)"
   ]
  },
  {
   "cell_type": "markdown",
   "id": "9310dda0-8191-4010-8f9c-95abb3b33a64",
   "metadata": {
    "editable": true,
    "slideshow": {
     "slide_type": "slide"
    },
    "tags": []
   },
   "source": [
    "# Outline\n",
    "\n",
    "1. Vectors\n",
    "2. Matrices\n",
    "3. Linear Transformations\n",
    "4. Distances and Norms\n",
    "5. Recommender Systems\n",
    "6. Graph Analysis\n",
    "7. Linear Equation Systems\n",
    "8. Vectorizing images and text"
   ]
  },
  {
   "cell_type": "markdown",
   "id": "eff6cda4-5598-480e-b8da-99ee836aeacd",
   "metadata": {
    "editable": true,
    "slideshow": {
     "slide_type": "slide"
    },
    "tags": []
   },
   "source": [
    "# 1. Vectors"
   ]
  },
  {
   "cell_type": "markdown",
   "id": "69fff7ef-a03f-4840-b490-4ceaadc3c9cd",
   "metadata": {
    "editable": true,
    "slideshow": {
     "slide_type": "fragment"
    },
    "tags": []
   },
   "source": [
    "## What is a vector?\n",
    "\n",
    "* **a geometric entity** with a direction and length, in an *n*-dimensional coordinate system.\n",
    "* **a feature vector**: a data point consisting of *n* numerical features.\n",
    "* in both cases, vectors are arrays of *n* real numbers"
   ]
  },
  {
   "cell_type": "markdown",
   "id": "a2680545-6467-41bb-b418-9ddccd58389e",
   "metadata": {
    "editable": true,
    "slideshow": {
     "slide_type": "subslide"
    },
    "tags": []
   },
   "source": [
    "## Vector notation\n",
    "\n",
    "Example: we were fruit shopping and store the amount of each type:\n",
    "\n",
    "$$\\vec{fruit} = \\begin{pmatrix} a_1 🍎 \\\\ a_2🍌 \\\\ a_3 🍒 \\end{pmatrix}$$\n",
    "\n",
    "$$a_i \\in {\\rm I\\!R}$$\n",
    "\n",
    "For instance:\n",
    "\n",
    "$$\\vec{fruit} = \\begin{pmatrix} 3 🍎 \\\\ 2🍌 \\\\ 1 🍒 \\end{pmatrix}$$\n",
    "\n",
    "### Conventions\n",
    "\n",
    "- lowercase letters\n",
    "- often written with an arrow on top (not always)\n",
    "- can have any number of dimensions"
   ]
  },
  {
   "cell_type": "markdown",
   "id": "c78d6bac-c43a-49b8-8f4f-6eb65214bb9f",
   "metadata": {
    "editable": true,
    "slideshow": {
     "slide_type": "subslide"
    },
    "tags": []
   },
   "source": [
    "## Adding and subtracting vectors\n",
    "\n",
    "$$\\vec{c} = \\vec{a} + \\vec{b} = \\begin{pmatrix} a_1 - b_1 \\\\ a_2 - b_2 \\end{pmatrix} = \\begin{pmatrix} 3🍎 + 4 🍎 \\\\ 2🍌 + 5🍌 \\\\ 1🍒+6 🍒 \\end{pmatrix}$$\n",
    "\n",
    "![addition and difference](images/add_subtract.png)"
   ]
  },
  {
   "cell_type": "markdown",
   "id": "a72bd7e8-8692-451f-b51c-d1615a1be836",
   "metadata": {
    "editable": true,
    "slideshow": {
     "slide_type": "subslide"
    },
    "tags": []
   },
   "source": [
    "## There are 4 ways to multiply vectors\n",
    "\n",
    "1. scalar multiplication\n",
    "2. component-wise product\n",
    "3. dot product\n",
    "4. cross product\n",
    "\n",
    "*(even more types of products exist, but not in this workshop)*"
   ]
  },
  {
   "cell_type": "markdown",
   "id": "b968bac2-2a37-46b7-ac94-f4b7db460229",
   "metadata": {
    "editable": true,
    "slideshow": {
     "slide_type": "subslide"
    },
    "tags": []
   },
   "source": [
    "## Scalar multiplications\n",
    "\n",
    "$$3\\vec{a} = \\begin{pmatrix} 3a_1 \\\\ 3a_2 \\\\ 3a_3 \\end{pmatrix}$$\n",
    "\n",
    "- result is a vector of the same size\n",
    "- multiply each item with the same number\n",
    "- makes the vector longer or shorter (scaling)"
   ]
  },
  {
   "cell_type": "markdown",
   "id": "c41c5c89-0eab-4d17-abbe-bf7e96f69668",
   "metadata": {
    "editable": true,
    "slideshow": {
     "slide_type": "subslide"
    },
    "tags": []
   },
   "source": [
    "## Component-wise Product\n",
    "\n",
    "$$\\vec{a} \\circ \\vec{b} = \\begin{pmatrix} a_1 b_1 \\\\ a_2 b_2 \\\\ a_3 b_3 \\end{pmatrix}$$\n",
    "\n",
    "Example:\n",
    "\n",
    "$$bill = \\vec{fruit} \\circ \\vec{prices} = \\begin{pmatrix} 3 🍎 \\\\ 2🍌 \\\\ 1 🍒 \\end{pmatrix} \\cdot \\begin{pmatrix} 2 € \\\\ 1 € \\\\ 3 € \\end{pmatrix} = \\begin{pmatrix} 3🍎 \\cdot 2 € \\\\ 2🍌 \\cdot 1 € \\\\ 1🍒 \\cdot 3 € \\end{pmatrix} = \\begin{pmatrix} 6 🍎€ \\\\ 2 🍌€ \\\\ 3 🍒€ \\end{pmatrix}$$\n",
    "\n",
    "- result is a vector of the same size\n",
    "- multiply each item with the corresponding position\n",
    "- also called Hadamard or Schur product"
   ]
  },
  {
   "cell_type": "markdown",
   "id": "be90ac1a-2c98-4031-a2cd-9bc790986725",
   "metadata": {
    "editable": true,
    "slideshow": {
     "slide_type": "subslide"
    },
    "tags": []
   },
   "source": [
    "## Dot Product (inner product)\n",
    "\n",
    "$$\\vec{a} \\cdot \\vec{b} = \\sum_i a_i b_i$$\n",
    "\n",
    "Example:\n",
    "\n",
    "$$bill = \\vec{fruit} \\cdot \\vec{prices} = \\begin{pmatrix} 3 🍎 \\\\ 2🍌 \\\\ 1 🍒 \\end{pmatrix} \\cdot \\begin{pmatrix} 2 € \\\\ 1 € \\\\ 3 € \\end{pmatrix} = \\begin{pmatrix} 3🍎 \\cdot 2 € \\\\ 2🍌 \\cdot 1 € \\\\ 1🍒 \\cdot 3 € \\end{pmatrix} = 11€$$\n",
    "\n",
    "\n",
    "- result is a scalar\n",
    "- sum of the component-wise product\n",
    "- geometrically a projection\n",
    "- 0 if the vectors are *orthogonal*"
   ]
  },
  {
   "cell_type": "markdown",
   "id": "47205e3e-d238-4cdd-b267-63ade9f9b797",
   "metadata": {
    "editable": true,
    "slideshow": {
     "slide_type": "subslide"
    },
    "tags": []
   },
   "source": [
    "## Cross Product (outer product)\n",
    "\n",
    "$$\\vec{a} \\times \\vec{b} = \\begin{pmatrix} a_2 b_3 - a_3 b_2 \\\\ a_3 b_1 - a_1 b_3 \\\\ a_1 b_2 - a_2 b_1 \\end{pmatrix}$$\n",
    "\n",
    "- calculates an orthogonal vector\n",
    "- non-commutative ($\\vec{a} \\times \\vec{b} \\neq \\vec{b} \\times \\vec{a}$)\n",
    "- 0 if vectors a and b are colinear\n",
    "- works for > 3 dimensions but more complicated\n"
   ]
  },
  {
   "cell_type": "markdown",
   "id": "e4c61d0e-9e30-4e26-9fce-5acbb3eada11",
   "metadata": {
    "editable": true,
    "slideshow": {
     "slide_type": "subslide"
    },
    "tags": []
   },
   "source": [
    "## Special vectors\n",
    "\n",
    "### Null vector\n",
    "\n",
    "$$\\vec{0} =  \\begin{pmatrix} 0 \\\\ 0 \\\\ 0 \\end{pmatrix}$$"
   ]
  },
  {
   "cell_type": "markdown",
   "id": "00178c6f-1d48-4eca-a960-f483e1c3f2dd",
   "metadata": {
    "editable": true,
    "slideshow": {
     "slide_type": "fragment"
    },
    "tags": []
   },
   "source": [
    "### Unit vector\n",
    "\n",
    "$$\\vec{u} =  \\begin{pmatrix} 1 \\\\ 0 \\end{pmatrix}$$\n",
    "\n",
    "- length 1, aligned with an axis\n",
    "- define a corrdinate system\n",
    "\n",
    "![unit](images/unit_vecs.png)"
   ]
  },
  {
   "cell_type": "markdown",
   "id": "5944ac29-db0d-4232-b2b6-41d188c7ac00",
   "metadata": {
    "editable": true,
    "slideshow": {
     "slide_type": "subslide"
    },
    "tags": []
   },
   "source": [
    "## Summary\n",
    "\n",
    "- **Vectors are arrays of numbers that represent geometrical entities or just data.**\n",
    "- **there are four ways to multiply vectors**."
   ]
  },
  {
   "cell_type": "markdown",
   "id": "9e251210-74f5-4535-81bc-04b9df216265",
   "metadata": {
    "editable": true,
    "slideshow": {
     "slide_type": "subslide"
    },
    "tags": []
   },
   "source": [
    "## Exercises:\n",
    "\n",
    "![](exercises/sinwaves.png)\n",
    "\n",
    "- Go to **www.academis.eu/linear_algebra**\n",
    "- download and open the first Python notebeook\n",
    "- run the code examples on **Vectors**."
   ]
  },
  {
   "cell_type": "markdown",
   "id": "162ef2e8-9c2b-405f-a97a-70cd82123004",
   "metadata": {
    "editable": true,
    "slideshow": {
     "slide_type": "slide"
    },
    "tags": []
   },
   "source": [
    "# Overview\n",
    "\n",
    "![Linear Algebra Mind Map](images/mind_map.png)"
   ]
  },
  {
   "cell_type": "markdown",
   "id": "80db90ad-01f4-4aec-9f4a-8355f3aec11d",
   "metadata": {
    "editable": true,
    "slideshow": {
     "slide_type": "slide"
    },
    "tags": []
   },
   "source": [
    "# 2. Matrices"
   ]
  },
  {
   "cell_type": "markdown",
   "id": "641a555d-2ad7-4b99-a320-a59fa6b1a061",
   "metadata": {
    "editable": true,
    "slideshow": {
     "slide_type": "fragment"
    },
    "tags": []
   },
   "source": [
    "## What is a matrix?\n",
    "\n",
    "$$D = \\begin{pmatrix} d_{11} & d_{12} \\\\ d_{21} & d_{22} \\\\ d_{31} & d_{32}\\end{pmatrix} = \\begin{pmatrix} 3🍎 & 6🍎 \\\\ 2🍌 & 0🍌 \\\\ 1🍒 & 10🍒 \\end{pmatrix}$$\n",
    "\n",
    "- a two-dimensional array of real numbers\n",
    "- usually denoted by capital letters\n",
    "- dimension n x m (rows x columns) ⚠️\n",
    "- a table with data for many practical matters\n",
    "- addition, subtraction and scalar multiplication are very similar to vectors"
   ]
  },
  {
   "cell_type": "markdown",
   "id": "ee20c878-568b-4648-a876-78e5aababa7d",
   "metadata": {
    "editable": true,
    "slideshow": {
     "slide_type": "subslide"
    },
    "tags": []
   },
   "source": [
    "## Matrices in Numpy\n",
    "\n",
    "⚠️`.shape` is the most important operation for debugging vectors and matrices!"
   ]
  },
  {
   "cell_type": "code",
   "execution_count": null,
   "id": "4b331916-1f67-47d0-83e4-6bb65aef8322",
   "metadata": {
    "editable": true,
    "slideshow": {
     "slide_type": "fragment"
    },
    "tags": []
   },
   "outputs": [],
   "source": [
    "import numpy as np\n",
    "\n",
    "D = np.array([\n",
    "    [3, 6],\n",
    "    [2, 0],\n",
    "    [1, 10],\n",
    "])\n",
    "D.shape  # -> 3, 2 (rows, columns)"
   ]
  },
  {
   "cell_type": "markdown",
   "id": "a931414b-3a5f-49c0-a673-d10cd89c168a",
   "metadata": {
    "editable": true,
    "slideshow": {
     "slide_type": "subslide"
    },
    "tags": []
   },
   "source": [
    "## Transpose operation\n",
    "\n",
    "$$D^T = \\begin{pmatrix} d_{11} & d_{21} & d_{31} \\\\ d_{12} & d_{22} & d_{32}\\end{pmatrix} = \\begin{pmatrix} 3🍎 & 2🍌 & 1🍒 \\\\ 6🍎 & 0🍌 & 10🍒 \\end{pmatrix}$$\n",
    "\n",
    "- Swaps the axes of a matrix\n",
    "- converts **column vectors** to **row vectors** and vice versa\n",
    "- to transpose vectors in numpy, use `.reshape()` "
   ]
  },
  {
   "cell_type": "markdown",
   "id": "250a33ca-159c-4c19-a323-2017d0a0f370",
   "metadata": {
    "editable": true,
    "slideshow": {
     "slide_type": "subslide"
    },
    "tags": []
   },
   "source": [
    "## Matrix-vector product (1)\n",
    "\n",
    "Calculate the total cost for each shopper:\n",
    "\n",
    "$$D^T \\vec{prices} = \\begin{pmatrix} 3🍎 & 2🍌 & 1🍒 \\\\ 6🍎 & 0🍌 & 10🍒 \\end{pmatrix} \\begin{pmatrix} 2 € \\\\ 1 € \\\\ 3 € \\end{pmatrix} = \\begin{pmatrix} 3🍎\\cdot 2€ + 2🍌 \\cdot 1€ + 1🍒 \\cdot 3€ \\\\ 6🍎\\cdot 2€ + 0🍌\\cdot 1€ + 10🍒\\cdot 3€ \\end{pmatrix} = \\begin{pmatrix} 11€ \\\\ 42€ \\end{pmatrix}$$\n",
    "\n",
    "- like the dot product, but with each row or column\n",
    "- multiplies a **(2, 3)** matrix with a **(3, 1)** column vector\n",
    "- result is a vector of size **2**\n",
    "- non-commutative!"
   ]
  },
  {
   "cell_type": "markdown",
   "id": "2d33738f-14aa-43ca-8550-d8c70f5461d2",
   "metadata": {
    "editable": true,
    "slideshow": {
     "slide_type": "subslide"
    },
    "tags": []
   },
   "source": [
    "## Matrix-vector product (2)\n",
    "\n",
    "Calculate the total cost for each shopper, reversed:\n",
    "\n",
    "$$\\vec{prices}^T D =  \\begin{pmatrix} 2 € & 1 € & 3 € \\end{pmatrix} \\begin{pmatrix} 3🍎 & 6🍎 \\\\ 2🍌 & 0🍌 \\\\ 1🍒 & 10🍒 \\end{pmatrix} = \\begin{pmatrix} 3🍎\\cdot 2€ + 2🍌 \\cdot 1€ + 1🍒 \\cdot 3€ \\\\ 6🍎\\cdot 2€ + 0🍌\\cdot 1€ + 10🍒\\cdot 3€ \\end{pmatrix} = \\begin{pmatrix} 11€ & 42€ \\end{pmatrix}$$\n",
    "\n",
    "\n",
    "- multiplies a **(1, 3)** row vector with a **(3, 2)** matrix\n",
    "- result is a **(1, 2)** row vector\n",
    "- one dimension has to be the same, watch the indices!"
   ]
  },
  {
   "cell_type": "markdown",
   "id": "b746b95b-e792-4ef1-9d8b-e1cd0b139506",
   "metadata": {
    "editable": true,
    "slideshow": {
     "slide_type": "skip"
    },
    "tags": []
   },
   "source": [
    "## Matrix-vector product (3)\n",
    "\n",
    "Calculate the total amount for each fruit type:\n",
    "\n",
    "$$\\vec{prices}^T D =\n",
    "\\begin{pmatrix} 2 € & 1 € & 3 € \\end{pmatrix} \\begin{pmatrix} 3🍎 & 6🍎 \\\\ 2🍌 & 0🍌 \\\\ 1🍒 & 10🍒 \\end{pmatrix} = \n",
    "\\begin{pmatrix} 3🍎\\cdot 2€ + 2🍌 \\cdot 1€ + 1🍒 \\cdot 3€ \\\\ 6🍎\\cdot 2€ + 0🍌\\cdot 1€ + 10🍒\\cdot 3€ \\end{pmatrix} = \n",
    "\\begin{pmatrix} 11€ \\\\ 42€ \\end{pmatrix}$$\n",
    "\n",
    "- multiplies a **(3, 2)** matrix with a **(3, 2)** matrix\n",
    "- result is a **(2, 1)** matrix\n",
    "- non-commutative!\n",
    "- \n",
    "- \n",
    "- vector called a **row vector**, a (1, n) matrix, often denoted by transpose\n",
    "  - one dimension has to be the same, watch the indices!"
   ]
  },
  {
   "cell_type": "markdown",
   "id": "1203e434-deb2-46a8-a5de-6e23b7efbcbf",
   "metadata": {
    "editable": true,
    "slideshow": {
     "slide_type": "skip"
    },
    "tags": []
   },
   "source": [
    "## Matrix-vector product (3)\n",
    "\n",
    "$$\\vec{a}^T D = \\begin{pmatrix} a_1 & a_2 & a_3 \\end{pmatrix} \\begin{pmatrix} d_{11} & d_{12} \\\\ d_{21} & d_{22} \\\\ d_{31} & d_{32} \\end{pmatrix} = \\begin{pmatrix} a_1 d_{11} + a_2 d_{21} + a_3 d_{31} \\\\ a_1 d_{12} + a_2 d_{22} + a_3 d_{32} \\end{pmatrix}$$\n",
    "\n",
    "- vector called a **row vector**, a (1, n) matrix, often denoted by transpose\n",
    "  - one dimension has to be the same, watch the indices!"
   ]
  },
  {
   "cell_type": "markdown",
   "id": "a316204c-50b3-4290-a903-f211e9bf32b7",
   "metadata": {
    "editable": true,
    "slideshow": {
     "slide_type": "skip"
    },
    "tags": []
   },
   "source": [
    "## Matrix Multiplication\n",
    "\n",
    "Generally, in matrix multiplication the corresponding values in the **inner** dimension are subject to a dot product:\n",
    "\n",
    "$$C = AB$$\n",
    "\n",
    "$$C_{ij} = \\sum_k=1^n A_{ik} \\cdot B_{kj}$$\n",
    "\n",
    "### Properties\n",
    "\n",
    "- non-commutative: $AB \\neq BA$\n",
    "- associative: $(AB)C = A(BC)$\n",
    "- distributive: $A(B+C) = AB + AC$\n"
   ]
  },
  {
   "cell_type": "markdown",
   "id": "edc984fa-d736-496a-bcfc-75edac06101c",
   "metadata": {
    "editable": true,
    "slideshow": {
     "slide_type": "subslide"
    },
    "tags": []
   },
   "source": [
    "## Square Matrices\n",
    "\n",
    "Square matrices have two identical dimensions *(n, n)*.\n",
    "\n",
    "$$A = \\begin{pmatrix} a_{11} & a_{12} & a_{13} \\\\ a_{21} & a_{22} & a_{23} \\\\ a_{31} & a_{32} & a_{33} \\end{pmatrix}$$\n",
    "\n",
    "**⚠️ You will mess up the dimensions without causing an error!**\n"
   ]
  },
  {
   "cell_type": "markdown",
   "id": "210e3abc-3165-4627-9679-b6dbc4217828",
   "metadata": {
    "editable": true,
    "slideshow": {
     "slide_type": "skip"
    },
    "tags": []
   },
   "source": [
    "\n",
    "## Example: Linear Regression\n",
    "\n",
    "- dot product is the foundation of Machine Learning and Neural Networks\n",
    "- NVidia and other GPU chips are optimized hardware for calculating dot products and similar operations on matrices\n",
    "\n",
    "$$\\hat y = X \\vec{w} + \\vec{\\epsilon}$$"
   ]
  },
  {
   "cell_type": "markdown",
   "id": "71e86dd4-dc4c-4b68-b4d3-279eecf19f29",
   "metadata": {
    "editable": true,
    "slideshow": {
     "slide_type": "subslide"
    },
    "tags": []
   },
   "source": [
    "## Summary\n",
    "\n",
    "- Vectors are arrays of numbers that represent geometrical entities or just data.\n",
    "- there are four ways to multiply vectors.\n",
    "- **matrices are tables of numbers with *n x m* (rows x columns).**\n",
    "- **vectors and matrices are multiplied similar to a dot product.**"
   ]
  },
  {
   "cell_type": "markdown",
   "id": "6b9c32ba-530a-4786-a9ec-48e7372a51ae",
   "metadata": {
    "editable": true,
    "slideshow": {
     "slide_type": "slide"
    },
    "tags": []
   },
   "source": [
    "# 3. Linear Transformations"
   ]
  },
  {
   "cell_type": "markdown",
   "id": "67951b6e-7d5b-402e-9b10-984976a77030",
   "metadata": {
    "editable": true,
    "slideshow": {
     "slide_type": "fragment"
    },
    "tags": []
   },
   "source": [
    "![rotation](images/rotation.png)\n",
    "\n",
    "- Matrices represent linear transformations of coordinate systems\n",
    "- multplication with a matric transforms a vector\n",
    "- if it is not a square matrix, the number of dimensions changes\n",
    "- applications: 3D vector graphics, CAD, Unreal engine, 3D molecules"
   ]
  },
  {
   "cell_type": "markdown",
   "id": "155b527b-ff53-4b32-ab2c-5c749975e58f",
   "metadata": {
    "editable": true,
    "slideshow": {
     "slide_type": "subslide"
    },
    "tags": []
   },
   "source": [
    "## Rotation by 90°\n",
    "\n",
    "$$R_{90} = \\begin{pmatrix} 0 & 1 \\\\ -1 & 0 \\end{pmatrix}$$\n",
    "\n",
    "#### Example:\n",
    "\n",
    "$$R_{90} \\vec{a} = \\begin{pmatrix} 0 & 1 \\\\ -1 & 0 \\end{pmatrix} \\begin{pmatrix} 3 \\\\ 1 \\end{pmatrix} = \\begin{pmatrix} 0 \\cdot 3 + 1 \\cdot 1 \\\\ -1 \\cdot 3 + 0 \\cdot 1 \\end{pmatrix} = \\begin{pmatrix} 1 \\\\ -3 \\end{pmatrix}$$"
   ]
  },
  {
   "cell_type": "markdown",
   "id": "2e795d24-9408-47e5-86b8-f03f4608f831",
   "metadata": {
    "editable": true,
    "slideshow": {
     "slide_type": "subslide"
    },
    "tags": []
   },
   "source": [
    "## Rotation by other angles\n",
    "\n",
    "$$R(\\theta) = \\begin{pmatrix} cos \\theta & sin \\theta \\\\ -sin \\theta & cos \\theta \\end{pmatrix} $$\n",
    "\n",
    "### In a 3D coordinate system:\n",
    "\n",
    "$$R_x(\\theta) = \\begin{pmatrix}\n",
    "1 & 0 & 0 \\\\\n",
    "0 & cos \\theta & -sin \\theta \\\\\n",
    "0 & sin \\theta & cos \\theta \\end{pmatrix} $$"
   ]
  },
  {
   "cell_type": "markdown",
   "id": "979278a5-ba6f-4bb1-83ef-641a94840e90",
   "metadata": {
    "editable": true,
    "slideshow": {
     "slide_type": "subslide"
    },
    "tags": []
   },
   "source": [
    "## Other linear transformations\n",
    "\n",
    "![](images/lintrans.png)\n",
    "\n",
    "- scale, flip, shear\n",
    "- proportions on each axis stay the same\n",
    "- angle between axes may change"
   ]
  },
  {
   "cell_type": "markdown",
   "id": "65895ae5-4195-4c7c-ad1b-184d594d48a9",
   "metadata": {
    "editable": true,
    "slideshow": {
     "slide_type": "subslide"
    },
    "tags": []
   },
   "source": [
    "## Special Transformation Matrices\n",
    "\n",
    "### Identity Matrix\n",
    "\n",
    "$$I = \\begin{pmatrix} 1 & 0 & 0 \\\\ 0 & 1 & 0 \\\\ 0 & 0 & 1 \\end{pmatrix}$$\n",
    "\n",
    "Multiplication of a vector with an identita matrix results in the same vector.\n",
    "\n",
    "$$I\\vec{v} = \\vec{v}$$\n",
    "\n",
    "### Null Matrix\n",
    "\n",
    "$$A = \\begin{pmatrix} 0 & 0 & 0 \\\\ 0 & 0 & 0 \\\\ 0 & 0 & 0 \\end{pmatrix}$$\n",
    "\n",
    "Multiplication of a vector with a null matrix results in a null vector."
   ]
  },
  {
   "cell_type": "markdown",
   "id": "4ae8ca07-678d-4d74-a076-2d5b71f46c65",
   "metadata": {
    "editable": true,
    "slideshow": {
     "slide_type": "subslide"
    },
    "tags": []
   },
   "source": [
    "# Determinants\n",
    "**a key characteristic to describe linear transformation matrices**\n",
    "\n",
    "![](images/determinant.png)\n",
    "\n",
    "$$A = \\begin{pmatrix} a & b \\\\ c & d \\end{pmatrix}$$\n",
    "\n",
    "$$det A = ad - bc$$\n",
    "\n",
    "- the determinant of a matrix $det A$ specifies by what factor the area spanned by unit vectors changes during a linear transformation\n",
    "- if $det A$ is 1, the scale of the image does not change (e.g. rotation)\n",
    "- if $det A$ is negative, the orientation of the coordinate system reverses\n",
    "- if $det A$ is 0, some axes fall together during the transformation\n"
   ]
  },
  {
   "cell_type": "markdown",
   "id": "1ccd0ff0-27a6-46fd-b8a4-aa5f75b511b3",
   "metadata": {
    "editable": true,
    "slideshow": {
     "slide_type": "subslide"
    },
    "tags": []
   },
   "source": [
    "## Summary\n",
    "\n",
    "- Vectors are arrays of numbers that represent geometrical entities or just data.\n",
    "- there are four ways to multiply vectors.\n",
    "- matrices are tables of numbers with *n x m* (rows x columns).\n",
    "- vectors and matrices are multiplied similar to a dot product.\n",
    "- **matrix multiplication rotates, scales, flips, shears vectors to a new coordinate system.**"
   ]
  },
  {
   "cell_type": "markdown",
   "id": "1b843a45-e75e-4912-8893-9e3bd50551b9",
   "metadata": {
    "editable": true,
    "slideshow": {
     "slide_type": "slide"
    },
    "tags": []
   },
   "source": [
    "# Overview\n",
    "\n",
    "![Linear Algebra Mind Map](images/mind_map.png)"
   ]
  },
  {
   "cell_type": "markdown",
   "id": "f6bccd7e-199b-4957-a156-0168cc458525",
   "metadata": {
    "editable": true,
    "slideshow": {
     "slide_type": "slide"
    },
    "tags": []
   },
   "source": [
    "# 4. Distances and Norms"
   ]
  },
  {
   "cell_type": "markdown",
   "id": "89305338-d25c-495c-892e-cc915f18774c",
   "metadata": {
    "editable": true,
    "slideshow": {
     "slide_type": "fragment"
    },
    "tags": []
   },
   "source": [
    "**A distance matrix of 333 penguins:**\n",
    "\n",
    "![](images/dist_matrix.png)\n",
    "\n",
    "We have seen how we can combine vectors and matrices in different ways.\n",
    "Now, we will compare two vectors."
   ]
  },
  {
   "cell_type": "markdown",
   "id": "6e196128-2d32-40ab-b412-eb452426e0af",
   "metadata": {
    "editable": true,
    "slideshow": {
     "slide_type": "subslide"
    },
    "tags": []
   },
   "source": [
    "## Comparing vectors\n",
    "\n",
    "**How can we measure the distance between 2 data points?**\n",
    "\n",
    "![](images/penguin_table.png)\n",
    "\n",
    "- **norms** measure the length of the difference vector.\n",
    "- **cosine similarity** measures the angle between two vectors."
   ]
  },
  {
   "cell_type": "markdown",
   "id": "87f29686-bb9b-44a4-afb2-80659695d1e2",
   "metadata": {
    "editable": true,
    "slideshow": {
     "slide_type": "subslide"
    },
    "tags": []
   },
   "source": [
    "## L1 Norm: Manhattan distance\n",
    "\n",
    "![](images/manhattan.png)\n",
    "\n",
    "The Manhattan distance sums up the absolute of each component of a vector (or the difference of two)\n",
    "\n",
    "$$||\\vec{a}||_1 = \\sum_i |a_i|$$\n",
    "\n",
    "**Application:** regularization in Machine Learning."
   ]
  },
  {
   "cell_type": "markdown",
   "id": "3b04a089-2976-44eb-b7f1-438e6826ba2a",
   "metadata": {
    "editable": true,
    "slideshow": {
     "slide_type": "subslide"
    },
    "tags": []
   },
   "source": [
    "## L2 Norm: Euclidean distance\n",
    "\n",
    "![](images/euclidean.png)\n",
    "\n",
    "Euclidean distance does the same calculation as in the Pythagorean theorem: it sums up square differences and then takes the square root.\n",
    "\n",
    "$$||\\vec{a}||_2 = \\sqrt{\\sum_i a_i^2}$$\n",
    "\n",
    "**Application:** regularization in Machine Learning"
   ]
  },
  {
   "cell_type": "markdown",
   "id": "75d64aa9-7653-4d0b-8063-f3704cf8c94b",
   "metadata": {
    "editable": true,
    "slideshow": {
     "slide_type": "subslide"
    },
    "tags": []
   },
   "source": [
    "## Cosine similarity\n",
    "\n",
    "![](images/cosine.png)\n",
    "\n",
    "- Cosine similarity measures the angle between two vectors\n",
    "- between 1 (perfect match) and 0 (orthogonal)\n",
    "- cosine rule explains why dot product is zero if angle is 90°\n",
    "\n",
    "$$cos(\\theta) = \\frac{\\vec{a} \\cdot \\vec{b}}{||\\vec{a}||_2 \\cdot ||\\vec{b}||_2}$$\n",
    "\n",
    "**Application:** search in RAGs, clustering, anomaly detection and recommender systems\n"
   ]
  },
  {
   "cell_type": "code",
   "execution_count": null,
   "id": "ed7fb3d2-f68a-4640-8b82-b39c6748839d",
   "metadata": {
    "editable": true,
    "slideshow": {
     "slide_type": ""
    },
    "tags": []
   },
   "outputs": [],
   "source": []
  },
  {
   "cell_type": "code",
   "execution_count": null,
   "id": "5af7ac0a-134f-4eac-b581-62c9ced2d0ce",
   "metadata": {
    "editable": true,
    "slideshow": {
     "slide_type": ""
    },
    "tags": []
   },
   "outputs": [],
   "source": []
  },
  {
   "cell_type": "code",
   "execution_count": null,
   "id": "6bada16e-abf5-4821-b293-7fc17846b27b",
   "metadata": {
    "editable": true,
    "slideshow": {
     "slide_type": ""
    },
    "tags": []
   },
   "outputs": [],
   "source": []
  },
  {
   "cell_type": "markdown",
   "id": "fe243b7e-de83-4084-9129-d6fa2b758504",
   "metadata": {
    "editable": true,
    "slideshow": {
     "slide_type": "subslide"
    },
    "tags": []
   },
   "source": [
    "## Example: Clustering\n",
    "\n",
    "PENGUINS: distance matrix\n",
    "PENGUINS: min-max scaling\n",
    "PENGUINS: clustering\n",
    "\n",
    "- distance matrix (for graph with weights)\n",
    "- similarity matrix"
   ]
  },
  {
   "cell_type": "code",
   "execution_count": null,
   "id": "9380c44b-45e6-4ba4-9ed3-e7b657fc69d4",
   "metadata": {
    "editable": true,
    "slideshow": {
     "slide_type": ""
    },
    "tags": []
   },
   "outputs": [],
   "source": [
    "PENGUINS: MSE, MAE\n",
    "?? PENGUINS: Regularization"
   ]
  },
  {
   "cell_type": "markdown",
   "id": "ac4283b5-e8a1-4c12-a8e2-e2c93df239ce",
   "metadata": {
    "editable": true,
    "slideshow": {
     "slide_type": ""
    },
    "tags": []
   },
   "source": [
    "## Summary\n",
    "\n",
    "- Vectors are arrays of numbers that represent geometrical entities or just data.\n",
    "- there are four ways to multiply vectors.\n",
    "- matrices are tables of numbers with *n x m* (rows x columns).\n",
    "- vectors and matrices are multiplied similar to a dot product.\n",
    "- matrix multiplication rotates, scales, flips, shears vectors to a new coordinate system.\n",
    "- **The length of vectors can be measured by L1 and L2 norms.**\n",
    "- **Cosine similarity measures the angle between vectors.**"
   ]
  },
  {
   "cell_type": "markdown",
   "id": "cf1dc86f-6a1b-46b2-bba7-69a6a73917df",
   "metadata": {
    "editable": true,
    "slideshow": {
     "slide_type": "slide"
    },
    "tags": []
   },
   "source": [
    "# 5. Recommender Systems"
   ]
  },
  {
   "cell_type": "code",
   "execution_count": null,
   "id": "6303ba26-0475-4b8f-8224-fdaff09f5e52",
   "metadata": {
    "editable": true,
    "slideshow": {
     "slide_type": ""
    },
    "tags": []
   },
   "outputs": [],
   "source": [
    "Example: recommender system\n",
    "\n",
    "- Exercise: find most similar user\n",
    "  - find closest vector\n",
    "  - RAG\n",
    "  - which distance to use?\n",
    "\n",
    "- matrix-matrix multiplication\n",
    "- matrix factorization\n",
    "- norm of matrix\n",
    "\n",
    "Exercise: recommend a movie\n",
    "\n",
    "PENGUINS: similarity search"
   ]
  },
  {
   "cell_type": "markdown",
   "id": "2f78b786-6edd-4e67-ac70-e5f0a79f9c14",
   "metadata": {
    "editable": true,
    "slideshow": {
     "slide_type": "slide"
    },
    "tags": []
   },
   "source": [
    "# 6. Graph Analysis"
   ]
  },
  {
   "cell_type": "code",
   "execution_count": null,
   "id": "666e1e90-97da-40ce-901c-499ae1412453",
   "metadata": {
    "editable": true,
    "slideshow": {
     "slide_type": ""
    },
    "tags": []
   },
   "outputs": [],
   "source": [
    "\n",
    "Example: Markov chain\n",
    "IMAGE: map of Europe\n",
    "\n",
    "- adjacency matrix\n",
    "- distance matrix (for graph with weights)\n",
    "- similarity matrix\n",
    "- symmetric matrix  : A = A.T\n",
    "- unsymmetric: \n",
    "\n",
    "- centrality\n",
    "  - we want to find out the important nodes\n",
    "  - random movement\n",
    "  - Markov chain\n",
    "    - transition probability matrix\n",
    "    - Markov rule A(t+1) = A(t) M\n",
    "  - eigenvectors\n",
    "    - pagerank\n",
    "\n",
    "Example: number images\n",
    "\n",
    "Application - PCA\n"
   ]
  },
  {
   "cell_type": "markdown",
   "id": "235a9822-c7ce-4f50-92ae-a724109b5cf3",
   "metadata": {
    "editable": true,
    "slideshow": {
     "slide_type": "slide"
    },
    "tags": []
   },
   "source": [
    "# 7. Linear Equation Systems"
   ]
  },
  {
   "cell_type": "code",
   "execution_count": null,
   "id": "71ce4770-115a-4fb2-a02f-e068fdc93209",
   "metadata": {
    "editable": true,
    "slideshow": {
     "slide_type": "subslide"
    },
    "tags": []
   },
   "outputs": [],
   "source": [
    "PENGUINS: Linear Independence\n",
    "\n",
    "  - inverse matrix (not the same as transpose!); not all matrices are invertible; singular matrix: ???\n",
    "\n",
    "- determinant: area + orientation\n",
    "  The determinant of a 2-D array [[a, b], [c, d]] is ad - bc:\n",
    "- use determinant to check for linear independence (CHECK)\n",
    "\n",
    "Add property weight in kg\n",
    "- correlation matrix\n",
    "\n",
    "- gauss elimination: requires square matrix N equations with N unknowns\n",
    "- example: base fare + per mile * km\n",
    "- robust: works with transposed matrices\n",
    "\n",
    "Example applications:\n",
    "- linear solvers\n",
    "- traffic flow through network\n",
    "- timetable problem, burrito\n"
   ]
  },
  {
   "cell_type": "markdown",
   "id": "7fb869a7-7eb4-4f6f-90fc-c9dfc02dd3da",
   "metadata": {
    "editable": true,
    "slideshow": {
     "slide_type": "slide"
    },
    "tags": []
   },
   "source": [
    "# 8. Vectorizing images and text"
   ]
  },
  {
   "cell_type": "markdown",
   "id": "6a0bc2ab-d6ec-4eee-ba5c-1ba70ca2ad56",
   "metadata": {
    "editable": true,
    "slideshow": {
     "slide_type": ""
    },
    "tags": []
   },
   "source": [
    "## Binary vectors (consist of 0 and 1)\n",
    "\n",
    "convert penguin species to one-hot encoding"
   ]
  },
  {
   "cell_type": "markdown",
   "id": "2061079a-1352-4b0b-9267-e7b933386efc",
   "metadata": {
    "editable": true,
    "slideshow": {
     "slide_type": ""
    },
    "tags": []
   },
   "source": [
    "## 2D Convolution\n",
    "\n",
    "IMAGE CNN\n",
    "\n",
    "converts pixel information into features of images\n",
    "technical basis for image recognition\n",
    "\n",
    "- Convolution\n",
    "- IMAGE: CNN\n",
    "- interactive MNIST tool"
   ]
  },
  {
   "cell_type": "markdown",
   "id": "9f648bc4-e3aa-4047-9324-78d73ec4845a",
   "metadata": {
    "editable": true,
    "slideshow": {
     "slide_type": ""
    },
    "tags": []
   },
   "source": [
    "## Word Vectors\n",
    "\n",
    "- Word vectors\n",
    "- coffee, espresso, cappuccino\n",
    "- hand + glove = foot + shoe\n",
    "- document vectors\n",
    "- word embeddings\n",
    "- Spacy example\n",
    "- enumerate embedding dimensions\n",
    "  -> applications: Neural\n",
    "\n",
    "https://projector.tensorflow.org/\n",
    "enter words like cat, shirt, apple. Note that the website projects 200-dimensional vectors into a 3D space using a linear transformation (PCA), therefore the distances between the points may not accurately reflect the real ones."
   ]
  }
 ],
 "metadata": {
  "kernelspec": {
   "display_name": "Python 3 (ipykernel)",
   "language": "python",
   "name": "python3"
  },
  "language_info": {
   "codemirror_mode": {
    "name": "ipython",
    "version": 3
   },
   "file_extension": ".py",
   "mimetype": "text/x-python",
   "name": "python",
   "nbconvert_exporter": "python",
   "pygments_lexer": "ipython3",
   "version": "3.13.3"
  }
 },
 "nbformat": 4,
 "nbformat_minor": 5
}
