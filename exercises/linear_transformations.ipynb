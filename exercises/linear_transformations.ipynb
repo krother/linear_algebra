{
 "cells": [
  {
   "cell_type": "markdown",
   "id": "cee73356-d953-4e0e-ac85-1e1b1d78fe3b",
   "metadata": {},
   "source": [
    "Linear Transformations\n",
    "======================\n",
    "\n",
    "In this exercise, you will apply matrices to transform vectors."
   ]
  },
  {
   "cell_type": "code",
   "execution_count": null,
   "id": "1e17bd2a-1f12-40cc-ada0-dc13a909e36f",
   "metadata": {},
   "outputs": [],
   "source": [
    "import numpy as np\n",
    "from numpy.linalg import inv, det\n",
    "from math import sin, cos, radians\n",
    "from matplotlib import pyplot as plt"
   ]
  },
  {
   "cell_type": "markdown",
   "id": "4f854c96-edff-4d34-bc65-9e3ca3a11529",
   "metadata": {},
   "source": [
    "Clock\n",
    "-----\n",
    "\n",
    "Let\\'s define a vector for a clock hand with an x and y coordinate:\n",
    "\n",
    "$$\\begin{aligned}\n",
    "\\vec{a} = \\begin{pmatrix} 0 \\\\ 2 \\end{pmatrix}\n",
    "\\end{aligned}$$"
   ]
  },
  {
   "cell_type": "code",
   "execution_count": null,
   "id": "68627c1e-7900-4687-b4a4-52238413eb0a",
   "metadata": {},
   "outputs": [],
   "source": [
    "a = np.array([0, 2])"
   ]
  },
  {
   "cell_type": "markdown",
   "id": "f3d9fd0d-9f17-4646-864a-8ffd1cc72af3",
   "metadata": {},
   "source": [
    "The following code plots a clock:"
   ]
  },
  {
   "cell_type": "code",
   "execution_count": null,
   "id": "b336d730-5fed-43fe-b6c5-8d0f2a5ed6ff",
   "metadata": {},
   "outputs": [],
   "source": [
    "fig, ax = plt.subplots(figsize=(4, 4))\n",
    "ax.add_patch( plt.Circle((0, 0), 4.2, color='#cccccc'))\n",
    "ax.plot([3, 4], [0, 0], linewidth=3, color=\"black\")\n",
    "ax.plot([-3, -4], [0, 0], linewidth=3, color=\"black\")\n",
    "ax.plot([0, 0], [3, 4], linewidth=3, color=\"black\")\n",
    "ax.plot([0, 0], [-3, -4], linewidth=3, color=\"black\")\n",
    "\n",
    "# draw the clock\n",
    "ax.plot([0, a[0]], [0, a[1]], linewidth=5)\n",
    "\n",
    "plt.axis([-5, 5, -5, 5])"
   ]
  },
  {
   "cell_type": "markdown",
   "id": "514c499d-b295-4b55-a18d-38a71ed5f5bd",
   "metadata": {},
   "source": [
    "Rotation\n",
    "--------\n",
    "\n",
    "For linear transformations, use **matrices**. As long as the number of\n",
    "dimensions is the same before and after the transformation, it is a\n",
    "**square matrix**.\n",
    "\n",
    "The most simple linear transformation is a rotation by 90°:"
   ]
  },
  {
   "cell_type": "code",
   "execution_count": null,
   "id": "8898fffb-ccbe-4d2b-8c48-632d5dea6d70",
   "metadata": {},
   "outputs": [],
   "source": [
    "ROT = np.array([\n",
    "    [0, 1],\n",
    "    [-1, 0]]\n",
    ")"
   ]
  },
  {
   "cell_type": "markdown",
   "id": "c6debd30-3885-40b6-99c4-e3b6db73e565",
   "metadata": {},
   "source": [
    "To apply the rotation, use a matrix-vector product:"
   ]
  },
  {
   "cell_type": "code",
   "execution_count": null,
   "id": "77d03b4e-3864-4e67-a58c-4f3b9a0b17d1",
   "metadata": {},
   "outputs": [],
   "source": [
    "a = np.dot(ROT, a)"
   ]
  },
  {
   "cell_type": "markdown",
   "id": "6052d854-cdc2-4f3e-8b70-2548f5758f29",
   "metadata": {},
   "source": [
    "Then plot the clock again to see the change.\n",
    "\n",
    "You can execute the dot product multiple times for multiple rotations.\n",
    "\n",
    "Rotation by other angles\n",
    "------------------------\n",
    "\n",
    "You can rotate by arbitrary angles using trigonometric functions:"
   ]
  },
  {
   "cell_type": "code",
   "execution_count": null,
   "id": "3c872fb3-0026-47fa-8329-76f0fa64f6bc",
   "metadata": {},
   "outputs": [],
   "source": [
    "angle = radians(-45)\n",
    "\n",
    "ROT = np.array([\n",
    "    [cos(angle), sin(angle)],\n",
    "    [-sin(angle), cos(angle)]\n",
    "])"
   ]
  },
  {
   "cell_type": "markdown",
   "id": "a4696627-1a05-4dfa-b049-f2eff5a657d5",
   "metadata": {},
   "source": [
    "Try the following:\n",
    "\n",
    "-   rotate the hand by half an hour\n",
    "-   move the clocks hand back 10 minutes"
   ]
  },
  {
   "cell_type": "markdown",
   "id": "f3cfd3d8-af2e-47bb-a7d0-bfdb77535e4b",
   "metadata": {},
   "source": [
    "Stretch\n",
    "-------\n",
    "\n",
    "Another type of linear transformations is a stretching operation. It\n",
    "scales up the coordinates proportionally:"
   ]
  },
  {
   "cell_type": "code",
   "execution_count": null,
   "id": "f734fce1-369b-496b-ab84-66e04d32e8df",
   "metadata": {},
   "outputs": [],
   "source": [
    "STRETCH = np.array([\n",
    "    [2, 0],\n",
    "    [0, 2]\n",
    "    ])\n",
    "a = np.dot(STRETCH, a)"
   ]
  },
  {
   "cell_type": "markdown",
   "id": "87d48be5-e045-4f25-9768-1c5da07fb1ed",
   "metadata": {},
   "source": [
    "Now shrink the hand again.\n",
    "\n",
    "Shear\n",
    "-----\n",
    "\n",
    "The last operation modifies one coordinate but keeps the other constant.\n",
    "You can create perspective projections with this mechanism easily."
   ]
  },
  {
   "cell_type": "code",
   "execution_count": null,
   "id": "36aecd47-e098-4b64-bfa7-63a9e7e5e3c4",
   "metadata": {},
   "outputs": [],
   "source": [
    "SHEAR = np.array([\n",
    "    [1, -2],\n",
    "    [0, 1]\n",
    "    ])\n",
    "a = np.dot(SHEAR, a)"
   ]
  },
  {
   "cell_type": "markdown",
   "id": "54a4268e-09bb-4857-9034-b471c81ae4e3",
   "metadata": {},
   "source": [
    "## Collapse\n",
    "\n",
    "Lets also define a matrix that projects the y coordinate onto the x axis:"
   ]
  },
  {
   "cell_type": "code",
   "execution_count": null,
   "id": "b8feb5ef-256e-40da-806b-43be7ce377fb",
   "metadata": {},
   "outputs": [],
   "source": [
    "COLLAPSE = np.array([\n",
    "    [1, 1],\n",
    "    [0, 0],\n",
    "])"
   ]
  },
  {
   "cell_type": "markdown",
   "id": "9cdaeec7-3061-4234-8d5b-68d69b7ca651",
   "metadata": {},
   "source": [
    "Another hand\n",
    "------------\n",
    "\n",
    "You can add a second hand to the clock. First, make the vector longer:"
   ]
  },
  {
   "cell_type": "code",
   "execution_count": null,
   "id": "1a486d7d-64b8-4163-9e24-e96f1f20cab7",
   "metadata": {},
   "outputs": [],
   "source": [
    "a = np.array([0, 2, 1, 1])"
   ]
  },
  {
   "cell_type": "markdown",
   "id": "e7051e9c-f977-4cee-a9f9-e9c0545c6987",
   "metadata": {},
   "source": [
    "Add the following extra line to the plotting code block:"
   ]
  },
  {
   "cell_type": "code",
   "execution_count": null,
   "id": "3588c78a-4553-4508-9c15-86d508ee9af4",
   "metadata": {},
   "outputs": [],
   "source": [
    "ax.plot([0, a[2]], [0, a[3]], linewidth=7, color=\"red\")"
   ]
  },
  {
   "cell_type": "markdown",
   "id": "57de8925-be77-426c-be81-1b256a20badc",
   "metadata": {},
   "source": [
    "The matrices now are a bit more complicated - they are (4, 4) square\n",
    "matrices. For instance to rotate both hands independently:"
   ]
  },
  {
   "cell_type": "code",
   "execution_count": null,
   "id": "02db8345-c2d0-43de-9817-8b55fb093e32",
   "metadata": {},
   "outputs": [],
   "source": [
    "alpha = radians(120)\n",
    "beta = radians(10)\n",
    "\n",
    "ROT = np.array([\n",
    "    [ cos(alpha), sin(alpha), 0, 0],\n",
    "    [-sin(alpha), cos(alpha), 0, 0],\n",
    "    [0, 0, cos(beta), sin(beta)],\n",
    "    [0, 0, -sin(beta), cos(beta)]\n",
    "])\n",
    "a = np.dot(ROT, a)"
   ]
  },
  {
   "cell_type": "markdown",
   "id": "58c83335-e948-48cd-a67b-a4387bccd53f",
   "metadata": {},
   "source": [
    "## Determinants\n",
    "\n",
    "Check if any of the transformation matrices are *singular*. If they have a determinant of 0 they are singular and therefore non-invertible:"
   ]
  },
  {
   "cell_type": "code",
   "execution_count": null,
   "id": "07acbda2-8b15-4d8a-949a-06aa5ad0d16c",
   "metadata": {},
   "outputs": [],
   "source": [
    "det(ROT)"
   ]
  },
  {
   "cell_type": "code",
   "execution_count": null,
   "id": "c0564777-b404-48e7-9bef-13a41368877d",
   "metadata": {},
   "outputs": [],
   "source": [
    "det(STRETCH)"
   ]
  },
  {
   "cell_type": "code",
   "execution_count": null,
   "id": "d27e57ad-e05e-4303-8416-71999268a33e",
   "metadata": {},
   "outputs": [],
   "source": [
    "det(SHEAR)"
   ]
  },
  {
   "cell_type": "code",
   "execution_count": null,
   "id": "9408d657-58f0-480f-976c-2113aee7befd",
   "metadata": {},
   "outputs": [],
   "source": [
    "det(COLLAPSE)"
   ]
  },
  {
   "cell_type": "code",
   "execution_count": null,
   "id": "fd17d8d5-0d0c-4c0a-be20-2a08935b8979",
   "metadata": {},
   "outputs": [],
   "source": []
  }
 ],
 "metadata": {
  "kernelspec": {
   "display_name": "Python 3 (ipykernel)",
   "language": "python",
   "name": "python3"
  },
  "language_info": {
   "codemirror_mode": {
    "name": "ipython",
    "version": 3
   },
   "file_extension": ".py",
   "mimetype": "text/x-python",
   "name": "python",
   "nbconvert_exporter": "python",
   "pygments_lexer": "ipython3",
   "version": "3.13.3"
  }
 },
 "nbformat": 4,
 "nbformat_minor": 5
}
