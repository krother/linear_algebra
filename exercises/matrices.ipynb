{
 "cells": [
  {
   "cell_type": "markdown",
   "id": "e6f2d953-f808-40f6-9b10-8e494a95945c",
   "metadata": {},
   "source": [
    "# Matrices"
   ]
  },
  {
   "cell_type": "code",
   "execution_count": null,
   "id": "f42769a4-a7bf-4aa0-896c-88e70c2bf502",
   "metadata": {},
   "outputs": [],
   "source": [
    "import math\n",
    "import numpy as np\n",
    "import seaborn as sns\n",
    "from matplotlib import pyplot as plt"
   ]
  },
  {
   "cell_type": "markdown",
   "id": "d8086c1b-c01d-4e3c-8526-0a5f41696112",
   "metadata": {},
   "source": [
    "### Eye Candy"
   ]
  },
  {
   "cell_type": "code",
   "execution_count": null,
   "id": "39a55fc3-d5ec-4ffb-9d33-1ba14b835b7b",
   "metadata": {},
   "outputs": [],
   "source": [
    "A = np.random.normal(size=(1, 16))\n",
    "M = A.T * A\n",
    "plt.imshow(M)"
   ]
  },
  {
   "cell_type": "markdown",
   "id": "70fb8943-2654-4610-ab34-61c2e10875c0",
   "metadata": {},
   "source": [
    "In this exercise, you continue using vectors to calculate the price of fruit baskets.\n",
    "This time, you will need **matrices**.\n",
    "\n",
    "Define a matrix containing a shopping list for two people.\n",
    "Each row is a person, the columns are the fruit types (*apple, banana, cherry*)."
   ]
  },
  {
   "cell_type": "code",
   "execution_count": null,
   "id": "246b6369-13bd-4440-901a-51fa36863949",
   "metadata": {},
   "outputs": [],
   "source": [
    "M = np.array([\n",
    "    [10, 2, 0],\n",
    "    [4, 7, 10]\n",
    "])"
   ]
  },
  {
   "cell_type": "markdown",
   "id": "20735d32-93cd-4397-90dc-8b2b2e5a7d68",
   "metadata": {},
   "source": [
    "## Inspect the shape\n",
    "\n",
    "Inspect the shape, your most important debugging operation:"
   ]
  },
  {
   "cell_type": "code",
   "execution_count": null,
   "id": "afa64011-add8-4c5f-8ad7-54b377e8a74e",
   "metadata": {},
   "outputs": [],
   "source": [
    "M.shape"
   ]
  },
  {
   "cell_type": "markdown",
   "id": "2a92def0-864f-41eb-840c-94e0e73ec5d3",
   "metadata": {},
   "source": [
    "#### Hint:\n",
    "\n",
    "Put this command under your pillow, really.\n",
    "When working with vectors and matrices in Python, you will need to inspect the shape before googling or doing anything else.\n",
    "While I was learning this line of work, 50% of my bugs had to do with wrong shapes."
   ]
  },
  {
   "cell_type": "markdown",
   "id": "ee47760f-3886-42b9-8f76-1cb2662c4202",
   "metadata": {},
   "source": [
    "## Matrix arithmetics\n",
    "\n",
    "Not too exciting, but you might want to try them out anyway:"
   ]
  },
  {
   "cell_type": "code",
   "execution_count": null,
   "id": "48ae3920-fc3d-45d4-803a-f0881903f5d3",
   "metadata": {},
   "outputs": [],
   "source": [
    "M + 10"
   ]
  },
  {
   "cell_type": "code",
   "execution_count": null,
   "id": "32327c31-88c9-4f33-858f-c934d96bd25b",
   "metadata": {},
   "outputs": [],
   "source": [
    "M * 5"
   ]
  },
  {
   "cell_type": "markdown",
   "id": "c451ec15-a592-4356-a28b-97b7b4cae1ab",
   "metadata": {},
   "source": [
    "## Transposition\n",
    "\n",
    "Swap the axes — note that a transpose is not a rotation."
   ]
  },
  {
   "cell_type": "code",
   "execution_count": null,
   "id": "3175077f-fc61-488d-9b28-3704f1095b38",
   "metadata": {},
   "outputs": [],
   "source": [
    "M.transpose()"
   ]
  },
  {
   "cell_type": "code",
   "execution_count": null,
   "id": "56afd930-411d-448b-bbe5-6b1dd67317c6",
   "metadata": {},
   "outputs": [],
   "source": [
    "M.transpose().shape"
   ]
  },
  {
   "cell_type": "markdown",
   "id": "31003cf9-7f5c-40e2-ae8d-c0922cdeae9c",
   "metadata": {},
   "source": [
    "## Multiplying matrices with vectors\n",
    "\n",
    "Which of the following dot products work?\n",
    "Try them one by one and check the shapes to explain your observation:"
   ]
  },
  {
   "cell_type": "code",
   "execution_count": null,
   "id": "70f473ed-afac-45a0-aac3-6e3faac9f93c",
   "metadata": {},
   "outputs": [],
   "source": [
    "prices = np.array([1.0, 0.5, 0.05])\n",
    "\n",
    "np.dot(M, prices)"
   ]
  },
  {
   "cell_type": "code",
   "execution_count": null,
   "id": "6167986e-b7a7-43e3-ae44-56f7aed77f8c",
   "metadata": {},
   "outputs": [],
   "source": [
    "np.dot(prices, M)"
   ]
  },
  {
   "cell_type": "code",
   "execution_count": null,
   "id": "137529b8-a51c-4972-9373-a2d9be3c1d95",
   "metadata": {},
   "outputs": [],
   "source": [
    "np.dot(M.transpose(), prices)"
   ]
  },
  {
   "cell_type": "code",
   "execution_count": null,
   "id": "233e5d58-152d-479e-b62a-fdc282798ef9",
   "metadata": {},
   "outputs": [],
   "source": [
    "np.dot(prices, M.transpose())"
   ]
  },
  {
   "cell_type": "markdown",
   "id": "df9b0de2-2e9c-42f4-892f-8a91589e7300",
   "metadata": {},
   "source": [
    "## Create a matrix from two vectors\n",
    "\n",
    "Create a matrix from a row and column vector and plot it:"
   ]
  },
  {
   "cell_type": "code",
   "execution_count": null,
   "id": "72e6587f-c1a6-4aa9-bcc7-54c0d378de0d",
   "metadata": {},
   "outputs": [],
   "source": [
    "a = np.arange(100)\n",
    "b = a.reshape(100, 1)\n",
    "c = a.reshape(1, 100)\n",
    "d = b * c\n",
    "print(d.shape)\n",
    "plt.imshow(d)"
   ]
  },
  {
   "cell_type": "markdown",
   "id": "cd291b62-0c7b-4373-8684-eea015481148",
   "metadata": {},
   "source": [
    "## Useful phrases"
   ]
  },
  {
   "cell_type": "code",
   "execution_count": null,
   "id": "6b6160c9-2525-428b-9b38-dadb490c066d",
   "metadata": {},
   "outputs": [],
   "source": [
    "B = np.arange(6).reshape((2, 3))"
   ]
  },
  {
   "cell_type": "markdown",
   "id": "77d14abb-bef1-4bb5-b2dc-f8b8a8c6bc08",
   "metadata": {},
   "source": [
    "Position-wise multiplication, if matrices have the same size:"
   ]
  },
  {
   "cell_type": "code",
   "execution_count": null,
   "id": "f8c634eb-1d8b-421c-8cb8-b762b1e71ee2",
   "metadata": {},
   "outputs": [],
   "source": [
    "M * B"
   ]
  },
  {
   "cell_type": "markdown",
   "id": "8c2c69dd-320b-404a-816b-f886a02299aa",
   "metadata": {},
   "source": [
    "Create a random matrix:"
   ]
  },
  {
   "cell_type": "code",
   "execution_count": null,
   "id": "e1d0251e-0a45-453a-b824-b67b57d169c3",
   "metadata": {},
   "outputs": [],
   "source": [
    "M = np.random.randint(low=0, high=5, size=(3, 4))"
   ]
  },
  {
   "cell_type": "markdown",
   "id": "9c040b9c-08e0-49a7-8b79-e2f4f529a5f1",
   "metadata": {},
   "source": [
    "Plot a matrix:"
   ]
  },
  {
   "cell_type": "code",
   "execution_count": null,
   "id": "c21df022-1ae6-4cfb-a9ae-29ca29be2b60",
   "metadata": {},
   "outputs": [],
   "source": [
    "plt.imshow(M)"
   ]
  },
  {
   "cell_type": "code",
   "execution_count": null,
   "id": "2820ba19-c5b6-4648-998c-e392bde4a6c1",
   "metadata": {},
   "outputs": [],
   "source": [
    "plt.figure(figsize=(4, 3))\n",
    "sns.heatmap(M, annot=True)\n",
    "plt.xticks([],[])\n",
    "plt.yticks([],[])"
   ]
  },
  {
   "cell_type": "code",
   "execution_count": null,
   "id": "007f70a6-93dd-438e-ab89-44eb2a633c56",
   "metadata": {},
   "outputs": [],
   "source": []
  }
 ],
 "metadata": {
  "kernelspec": {
   "display_name": "Python 3 (ipykernel)",
   "language": "python",
   "name": "python3"
  },
  "language_info": {
   "codemirror_mode": {
    "name": "ipython",
    "version": 3
   },
   "file_extension": ".py",
   "mimetype": "text/x-python",
   "name": "python",
   "nbconvert_exporter": "python",
   "pygments_lexer": "ipython3",
   "version": "3.13.3"
  }
 },
 "nbformat": 4,
 "nbformat_minor": 5
}
