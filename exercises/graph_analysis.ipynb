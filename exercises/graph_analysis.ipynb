{
 "cells": [
  {
   "cell_type": "markdown",
   "id": "8b99db96-71e6-4d6f-8604-486a4ffd3630",
   "metadata": {},
   "source": [
    "Graph Analysis\n",
    "==============\n",
    "\n",
    "<img src=\"germany_graph.png\" width=\"500px\">\n",
    "\n",
    "\n",
    "In the image, you find a graph describing the adjancency of all 16 Federal States of Germany.\n",
    "Here is the same graph as a **Python dictionary**:"
   ]
  },
  {
   "cell_type": "code",
   "execution_count": null,
   "id": "58367571-8c8d-40db-8038-1540f65e26d2",
   "metadata": {},
   "outputs": [],
   "source": [
    "import random\n",
    "import numpy as np\n",
    "import pandas as pd\n",
    "from collections import defaultdict"
   ]
  },
  {
   "cell_type": "code",
   "execution_count": null,
   "id": "ed67a069-a9a6-4d84-9b77-86433f9790ac",
   "metadata": {},
   "outputs": [],
   "source": [
    "germany = {\n",
    "    \"Baden-Württemberg\": [\"Rhineland-Palatinate\", \"Hesse\", \"Bavaria\"],\n",
    "    \"Bavaria\": [\"Baden-Württemberg\", \"Hesse\", \"Thuringia\", \"Saxony\"],\n",
    "    \"Berlin\": [\"Brandenburg\"],\n",
    "    \"Brandenburg\": [\"Saxony\", \"Saxony-Anhalt\", \"Lower Saxony\", \"Mecklenburg-Vorpommern\", \"Berlin\"],\n",
    "    \"Bremen\": [\"Lower Saxony\"],\n",
    "    \"Hamburg\": [\"Schleswig-Holstein\", \"Lower Saxony\"],\n",
    "    \"Hesse\": [\"North Rhine-Westphalia\", \"Lower Saxony\", \"Thuringia\", \"Bavaria\", \"Baden-Württemberg\", \"Rhineland-Palatinate\"],\n",
    "    \"Mecklenburg-Vorpommern\": [\"Brandenburg\", \"Schleswig-Holstein\", \"Lower Saxony\"],\n",
    "    \"Lower Saxony\": [\"Schleswig-Holstein\", \"Mecklenburg-Vorpommern\", \"Brandenburg\", \"Saxony-Anhalt\", \"Thuringia\", \"Hesse\", \"North Rhine-Westphalia\", \"Bremen\", \"Hamburg\"],\n",
    "    \"North Rhine-Westphalia\": [\"Lower Saxony\", \"Hesse\", \"Rhineland-Palatinate\"],\n",
    "    \"Rhineland-Palatinate\": [\"North Rhine-Westphalia\", \"Hesse\", \"Baden-Württemberg\", \"Saarland\"],\n",
    "    \"Saarland\": [\"Rhineland-Palatinate\"],\n",
    "    \"Saxony\": [\"Bavaria\", \"Thuringia\", \"Saxony-Anhalt\", \"Brandenburg\"],\n",
    "    \"Saxony-Anhalt\": [\"Lower Saxony\", \"Brandenburg\", \"Saxony\", \"Thuringia\"],\n",
    "    \"Schleswig-Holstein\": [\"Lower Saxony\", \"Hamburg\", \"Mecklenburg-Vorpommern\"],\n",
    "    \"Thuringia\": [\"Hesse\", \"Lower Saxony\", \"Saxony-Anhalt\", \"Saxony\", \"Bavaria\"]\n",
    "}"
   ]
  },
  {
   "cell_type": "markdown",
   "id": "ffdd1bb2-3705-428e-be18-ff2bddb41958",
   "metadata": {},
   "source": [
    "Random Walk\n",
    "-----------\n",
    "\n",
    "Suppose we want to find out which of the 16 states is the most central to the country.\n",
    "This is a concept called **centrality** applies to any graph.\n",
    "\n",
    "An easy way to measure the centrality is by simulating a **stochastic process** or **Markov Chain**: We place a traveler in one state and have them move around randomly across the borders.\n",
    "We count in which places they end up most often:"
   ]
  },
  {
   "cell_type": "code",
   "execution_count": null,
   "id": "f97f0390-8038-4d19-b16d-3aa8ea3353e8",
   "metadata": {},
   "outputs": [],
   "source": [
    "count = defaultdict(int)\n",
    "location = \"Berlin\"\n",
    "for _ in range(1_000_000):\n",
    "    location = random.choice(germany[location])\n",
    "    count[location] += 1"
   ]
  },
  {
   "cell_type": "markdown",
   "id": "81109f7f-e9bc-4eb1-a5bf-cef254a9c4e1",
   "metadata": {},
   "source": [
    "Visualize the location counts with"
   ]
  },
  {
   "cell_type": "code",
   "execution_count": null,
   "id": "0c651fa0-9322-4be5-be73-ba1aadf280a7",
   "metadata": {},
   "outputs": [],
   "source": [
    "pd.Series(count).sort_index(ascending=False).plot.barh()"
   ]
  },
  {
   "cell_type": "markdown",
   "id": "e1c46320-1554-4002-823d-f82e2fee28a7",
   "metadata": {},
   "source": [
    "For a big graph, this approach is not very precise. Once again, linear algebra comes to the rescue!"
   ]
  },
  {
   "cell_type": "markdown",
   "id": "6589c342-e7ba-4383-b8de-d38070ba1709",
   "metadata": {},
   "source": [
    "Adjacency Matrix\n",
    "----------------\n",
    "\n",
    "First, we need to describe the graph as an **adjacency matrix**:"
   ]
  },
  {
   "cell_type": "code",
   "execution_count": null,
   "id": "e6307eb3-2ca2-4e78-a5c9-79b9d98ebda8",
   "metadata": {},
   "outputs": [],
   "source": [
    "A = np.array([\n",
    "    [ \n",
    "        1 if c2 in germany[c1] else 0\n",
    "        for c2 in germany\n",
    "    ]\n",
    "    for c1 in germany\n",
    "])"
   ]
  },
  {
   "cell_type": "markdown",
   "id": "84dd1361-8e46-4761-8c4e-38becca643ca",
   "metadata": {},
   "source": [
    "Every 1 in the matrix is a connection, a 0 means no connection.\n",
    "You might recognize the similarity to a **distance matrix**, which in fact can be used in graph analysis as well.\n",
    "\n",
    "Display the matrix with:"
   ]
  },
  {
   "cell_type": "code",
   "execution_count": null,
   "id": "29c97395-62bb-49bf-9604-99d37a060d67",
   "metadata": {},
   "outputs": [],
   "source": [
    "import pandas as pd\n",
    "import seaborn as sns\n",
    "\n",
    "df = pd.DataFrame(A, index=list(germany), columns=list(germany))\n",
    "sns.heatmap(df, cbar=False)"
   ]
  },
  {
   "cell_type": "markdown",
   "id": "fbe0be9f-13b8-4f2b-a2d9-215ca799b06a",
   "metadata": {},
   "source": [
    "Transition Probabilities\n",
    "------------------------\n",
    "\n",
    "In a **Markov Chain model**, we can interpret the adjacency matrix as probabilities by normalizing it, so that every column sums up to 1:"
   ]
  },
  {
   "cell_type": "code",
   "execution_count": null,
   "id": "1d8eba2c-46de-4a2b-90bb-aa3d9d23223f",
   "metadata": {},
   "outputs": [],
   "source": [
    "T = (A / A.sum(axis=1))\n",
    "pd.DataFrame(T, index=list(germany), columns=list(germany)).round(2).head()"
   ]
  },
  {
   "cell_type": "markdown",
   "id": "52df70f3-525d-41e9-b1d0-dd01351d94f7",
   "metadata": {},
   "source": [
    "Markov Chain\n",
    "------------\n",
    "\n",
    "The Markov process is rather straightforward.\n",
    "You start with an arbitrary **state distribution vector** that describes the initial distribution of travelers:"
   ]
  },
  {
   "cell_type": "code",
   "execution_count": null,
   "id": "5558f3f3-3a56-42b3-84f2-391940097b43",
   "metadata": {},
   "outputs": [],
   "source": [
    "k = len(germany)\n",
    "v = np.ones(k) / k"
   ]
  },
  {
   "cell_type": "markdown",
   "id": "8c07300f-e29f-4396-94c4-bae912cc59e0",
   "metadata": {},
   "source": [
    "Now, apply the Markov rule over multiple steps.\n",
    "In each step, the new distribution vectors is obtained by a dot product with the transition probabilities:\n",
    "\n",
    "$$v_{t+1} = T \\cdot v_t$$\n",
    "\n",
    "In Python, a dot product takes care of everything:"
   ]
  },
  {
   "cell_type": "code",
   "execution_count": null,
   "id": "9a09550e-7edb-49c0-bc77-0461eeab3b1b",
   "metadata": {},
   "outputs": [],
   "source": [
    "for _ in range(10):\n",
    "    v = np.dot(T, v)\n",
    "    v = v / v.sum()  # normalize to column sum = 1 again"
   ]
  },
  {
   "cell_type": "markdown",
   "id": "55df4406-cb9b-4985-8ea2-01452b7d85f5",
   "metadata": {},
   "source": [
    "Plot the final distribution with:"
   ]
  },
  {
   "cell_type": "code",
   "execution_count": null,
   "id": "222952f0-e7e8-418b-bcaa-54ecfe69b64a",
   "metadata": {},
   "outputs": [],
   "source": [
    "pd.Series(v, index=germany.keys()).sort_index(ascending=False).plot.barh()"
   ]
  },
  {
   "cell_type": "markdown",
   "id": "8d92715e-f7e9-46db-af8f-6092bbe43944",
   "metadata": {},
   "source": [
    "Eigenvectors\n",
    "------------\n",
    "\n",
    "An intriguing concept in linear algebra are **Eigenvectors** and **Eigenvalues**.\n",
    "They describe central properties of matrices. An eigenvector $\\vec{v}$ and its corresponding eigenvalue $\\lambda$ satisfy the equation:\n",
    "\n",
    "\n",
    "$$T \\cdot \\vec{v} = \\lambda \\vec{v}$$\n",
    "\n",
    "Depending on the context, they can be interpreted as:\n",
    "\n",
    "- rotation axes of a linear transformation\n",
    "- representative linear combinations of data (Principal Component Analysis)\n",
    "\n",
    "In our graph example, the principal eigenvectors (the one with the highest eigenvalue) gives us the centrality directly. It can be calculated directly:"
   ]
  },
  {
   "cell_type": "code",
   "execution_count": null,
   "id": "0eb10fb5-0c47-4433-b380-814842881913",
   "metadata": {},
   "outputs": [],
   "source": [
    "eigvals, eigvecs = np.linalg.eig(T)\n",
    "idx = np.argmax(np.abs(eigvals))  # find biggest value\n",
    "centrality = np.abs(np.real(eigvecs[:, idx]))\n",
    "\n",
    "pd.Series(centrality, index=germany.keys()).sort_index(ascending=False).plot.barh()"
   ]
  },
  {
   "cell_type": "markdown",
   "id": "72e4eef1-584c-471a-a420-4d822228d1f2",
   "metadata": {},
   "source": [
    "#### Also see\n",
    "\n",
    "[Eigenvalues and Eigenvectors on Wikipedia](https://en.wikipedia.org/wiki/Eigenvalues_and_eigenvectors)\n",
    "\n",
    "Variations\n",
    "----------\n",
    "\n",
    "- re-initialize the state vector and run more iterations. How does the distributions change?\n",
    "- what was the most central federal state before the German reunification?\n",
    "- after every step, add some chance that the traveler will teleport to a random state. This ios called a **damping factor**. Modify the loop before the normalization:"
   ]
  },
  {
   "cell_type": "code",
   "execution_count": null,
   "id": "ce92c7fa-f0f1-4f4e-bb62-bbabf045f667",
   "metadata": {},
   "outputs": [],
   "source": [
    "TELEPORTATIONS = ...\n",
    "\n",
    "v = np.ones(k) / k\n",
    "\n",
    "for _ in range(10):\n",
    "    v = np.dot(T, v)\n",
    "    v = v + TELEPORTATIONS\n",
    "    v = v / v.sum()"
   ]
  },
  {
   "cell_type": "markdown",
   "id": "5a6d2dea-d715-442a-b67f-607cabb5eede",
   "metadata": {},
   "source": [
    "Try lower and higher numbers for the TELEPORTATIONS and see how the results change."
   ]
  },
  {
   "cell_type": "code",
   "execution_count": null,
   "id": "8a12bffb-c9cf-43fd-a331-0db053ebbab4",
   "metadata": {},
   "outputs": [],
   "source": [
    "pd.Series(v, index=germany.keys()).sort_index(ascending=False).plot.barh()"
   ]
  },
  {
   "cell_type": "markdown",
   "id": "360e3119-3f98-4d31-8aac-aa0994a771d3",
   "metadata": {},
   "source": [
    "### Links\n",
    "\n",
    "The idea of a random traveler with teleportation is one of the most important algorithms of our time: it was applied to web pages to rank their importance in search results.\n",
    "    This   [Page Rank Algorithm](https://en.wikipedia.org/wiki/PageRank) is one of the key innovations that has put Google among the leading web corporations.  "
   ]
  },
  {
   "cell_type": "code",
   "execution_count": null,
   "id": "953af615-8fec-411d-af1a-26858242a6da",
   "metadata": {},
   "outputs": [],
   "source": []
  }
 ],
 "metadata": {
  "kernelspec": {
   "display_name": "Python 3 (ipykernel)",
   "language": "python",
   "name": "python3"
  },
  "language_info": {
   "codemirror_mode": {
    "name": "ipython",
    "version": 3
   },
   "file_extension": ".py",
   "mimetype": "text/x-python",
   "name": "python",
   "nbconvert_exporter": "python",
   "pygments_lexer": "ipython3",
   "version": "3.13.3"
  }
 },
 "nbformat": 4,
 "nbformat_minor": 5
}
