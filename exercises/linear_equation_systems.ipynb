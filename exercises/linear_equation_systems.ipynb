{
 "cells": [
  {
   "cell_type": "markdown",
   "id": "6972d7ea-4f31-46d5-8329-69138e5b416e",
   "metadata": {},
   "source": [
    "Linear Equation Systems\n",
    "=======================\n",
    "\n",
    "<img src=\"fruit.jpg\" alt=\"Drawing\" style=\"width: 500px;\"/>\n",
    "\n",
    "Image by [Jonas Kakaroto](https://unsplash.com/de/@jkakaroto?utm_content=creditCopyText&utm_medium=referral&utm_source=unsplash)\n",
    "on [Unsplash](https://unsplash.com/de/fotos/rote-apfelfrucht-neben-grunem-apfel-und-gelbe-frucht-auf-braun-geflochtenem-korb-5JQH9Iqnm9o?utm_content=creditCopyText&utm_medium=referral&utm_source=unsplash).\n",
    "\n",
    "In this exercise, we will use **linear equations** to find unknown\n",
    "variables.\n",
    "\n",
    "Consider the following four persons shopping fruit. You know how many\n",
    "items everybody has bought and how much they spent, but the item prices\n",
    "are unknown.\n",
    "\n",
    "| fruit   | apple 🍎 | banana 🍌 | cherry 🍒 | grapes 🍇 | **total** |\n",
    "|---------|----------|-----------|------------|------------|------------|\n",
    "| Ada     | 2        | 0         | 4          | 2          | 24         |\n",
    "| Bashir  | 1        | 2         | 6          | 4          | 39         |\n",
    "| Choi    | 2        | 0         | 8          | 8          | 58         |\n",
    "| Deryl   | 2        | 1         | 9          | 4          | 51         |\n",
    "\n",
    "We can treat this data as a set of linear equations:\n",
    "\n",
    "$$ada = 2 \\cdot apple + 0 \\cdot banana + 4 \\cdot cherry + 2 \\cdot grapes = 24$$\n",
    "\n",
    "$$bashir = 1 \\cdot apple + 2 \\cdot banana ...$$\n",
    "\n",
    "That is, we have four equations with four unknowns. You could use high\n",
    "school algebra to solve this manually."
   ]
  },
  {
   "cell_type": "markdown",
   "id": "f0d4b449-a4a1-4e87-92fc-0bb3403b7cc2",
   "metadata": {},
   "source": [
    "Matrix representation\n",
    "---------------------\n",
    "\n",
    "The shortcut linear algebra offers represents the fruit items as a\n",
    "matrix **F**, and the total bill as a column vector $\\vec{bills}$:"
   ]
  },
  {
   "cell_type": "code",
   "execution_count": null,
   "id": "4469a240-5714-40f7-b8f4-5b60dadf96cf",
   "metadata": {},
   "outputs": [],
   "source": [
    "import numpy as np\n",
    "from numpy.linalg import inv, det"
   ]
  },
  {
   "cell_type": "code",
   "execution_count": null,
   "id": "8ab94a43-f470-4374-a988-e90fa0c628a3",
   "metadata": {},
   "outputs": [],
   "source": [
    "F = np.array([\n",
    "    [2, 0, 4, 2],\n",
    "    [1, 2, 6, 4],\n",
    "    [2, 0, 8, 8],\n",
    "    [2, 1, 9, 4]])\n",
    "\n",
    "bills = np.array([24, 39, 58, 51])"
   ]
  },
  {
   "cell_type": "markdown",
   "id": "ba2d7369-6730-4114-a404-01d0341947d7",
   "metadata": {},
   "source": [
    "Is the equation system solvable?\n",
    "--------------------------------\n",
    "\n",
    "Not all linear equation systems are solvable. Some have an infinite\n",
    "number of solutions, others are not solvable at all.\n",
    "\n",
    "By checking, whether the matrix **F** is invertible, we verify that it\n",
    "is actually possible to solve the problem:"
   ]
  },
  {
   "cell_type": "code",
   "execution_count": null,
   "id": "6c8fe38f-f87b-4ccd-acdc-af89d8f8982a",
   "metadata": {},
   "outputs": [],
   "source": [
    "G = inv(F)"
   ]
  },
  {
   "cell_type": "markdown",
   "id": "ecf6fbd4-56fa-4693-b38a-833f9103a290",
   "metadata": {},
   "source": [
    "When you multiply, the inverted matrix with the original one, you should\n",
    "obtain an identity matrix:"
   ]
  },
  {
   "cell_type": "code",
   "execution_count": null,
   "id": "1d0f6fde-26af-4555-8f92-2a74649be90f",
   "metadata": {},
   "outputs": [],
   "source": [
    "np.dot(F, G) "
   ]
  },
  {
   "cell_type": "markdown",
   "id": "b935b5a1-00e4-4cbf-8a94-4cf344420c65",
   "metadata": {},
   "source": [
    "Another way to ensure the matrix is non-singular is checking that its\n",
    "**determinant** is nonzero:"
   ]
  },
  {
   "cell_type": "code",
   "execution_count": null,
   "id": "a2e63b5e-c663-4610-a36b-039e1591af3b",
   "metadata": {},
   "outputs": [],
   "source": [
    "det(F)"
   ]
  },
  {
   "cell_type": "markdown",
   "id": "71fe2cc9-f5d6-4fe9-bc66-55b35e4490d9",
   "metadata": {},
   "source": [
    "Gauss-Jordan Elimination\n",
    "------------------------\n",
    "\n",
    "The [Gauss-Jordan Elimination](https://en.wikipedia.org/wiki/Gaussian_elimination)\n",
    "procedure now rearranges the values in the matrix to the **row echelon\n",
    "form** so that each row allows to determine one of the variable. NumPy\n",
    "does all the work for us:"
   ]
  },
  {
   "cell_type": "code",
   "execution_count": null,
   "id": "355ff690-fc37-4d5a-8c58-af1e4736a1b9",
   "metadata": {},
   "outputs": [],
   "source": [
    "prices = np.linalg.solve(F, bills)\n",
    "prices"
   ]
  },
  {
   "cell_type": "markdown",
   "id": "4af21735-995c-4d6a-b75e-482912e4cfb1",
   "metadata": {},
   "source": [
    "Use the dot product to check whether you can reproduce the original\n",
    "bills:"
   ]
  },
  {
   "cell_type": "code",
   "execution_count": null,
   "id": "b1e0c26a-b6f3-413f-9d2a-44146b1429dd",
   "metadata": {},
   "outputs": [],
   "source": [
    "np.dot(..., ...)"
   ]
  },
  {
   "cell_type": "markdown",
   "id": "2fbc7ca8-f572-492f-849a-c4c181a14314",
   "metadata": {},
   "source": [
    "#### Warning\n",
    "\n",
    "If you accidentally transpose the matrix, you will get an entirely\n",
    "different result. In this case, some prices will be negative. But it is\n",
    "important to make some manual sanity check if the numbers are\n",
    "reasonable.\n",
    "\n",
    "Unsolvable matrices\n",
    "-------------------\n",
    "\n",
    "Not all square matrices can be inverted. They are **singular**. For\n",
    "instance, when nobody has bought any bananas, we won\\'t be able to\n",
    "figure out the price:"
   ]
  },
  {
   "cell_type": "code",
   "execution_count": null,
   "id": "1a33bb2b-99bd-4f3c-8717-300daf74a746",
   "metadata": {},
   "outputs": [],
   "source": [
    "F2 = np.array([\n",
    "     [2, 0, 4, 2],\n",
    "     [1, 0, 6, 4],\n",
    "     [2, 0, 8, 8],\n",
    "     [2, 0, 9, 4]])\n",
    "\n",
    "inv(F2)"
   ]
  },
  {
   "cell_type": "markdown",
   "id": "4cf4fa53-597f-418e-baf5-d32162c2dd4d",
   "metadata": {},
   "source": [
    "This should result in an error without even looking at the prices.\n",
    "\n",
    "Matrices are also singular when rows are **colinear** (multiples of each\n",
    "other):"
   ]
  },
  {
   "cell_type": "code",
   "execution_count": null,
   "id": "5fe42523-b942-44ca-933f-968e3859e53a",
   "metadata": {},
   "outputs": [],
   "source": [
    "F3 = np.array([[3, 1, 50], [10, 10, 10], [20, 20, 20]])\n",
    "inv(F3)"
   ]
  },
  {
   "cell_type": "markdown",
   "id": "ea39920f-cf26-4be3-9bdc-c47e83aa47fb",
   "metadata": {},
   "source": [
    "Apply some changes to make these matrices invertible.\n",
    "\n",
    "For many singular matrices it is not immediately obvious what exactly is\n",
    "making them singular.\n",
    "\n",
    "Visualize the matrix\n",
    "--------------------\n",
    "\n",
    "To visualize the fruit baskets I recommend a grouped bar plot:"
   ]
  },
  {
   "cell_type": "code",
   "execution_count": null,
   "id": "7e5e5555-7bc4-4233-af81-5c91db1c0839",
   "metadata": {},
   "outputs": [],
   "source": [
    "import pandas as pd\n",
    "from matplotlib import pyplot as plt\n",
    "\n",
    "plt.figure(figsize=(4, 4))\n",
    "df = pd.DataFrame(F, columns=[\"apple\", \"banana\", \"cherry\", \"grapes\"],\n",
    "                  index=[\"Ada\", \"Bashir\", \"Choi\", \"Deryl\"])\n",
    "df.plot.barh()\n",
    "plt.xlabel(\"fruit [kg]\")"
   ]
  },
  {
   "cell_type": "markdown",
   "id": "8e485b06-a9e1-44ff-a6a9-b6fc7719ba67",
   "metadata": {},
   "source": [
    "### Links\n",
    "Linear Equations go much deeper. Here are some starting points:\n",
    "\n",
    "-   The [Gurobi Burrito Optimization\n",
    "    Game](https://www.gurobi.com/burrito-optimization-game/) lets you\n",
    "    explor more complex linear problems.\n",
    "-   [PuLP](https://coin-or.github.io/pulp/) is a free linear problem\n",
    "    solver for Python.\n",
    "-   [Gauss-Jordan Elimination on\n",
    "    Wikipedia](https://en.wikipedia.org/wiki/Gaussian_elimination)\n",
    ":::"
   ]
  },
  {
   "cell_type": "code",
   "execution_count": null,
   "id": "0db36ef4-109a-491a-ae14-537e99b4f1e7",
   "metadata": {},
   "outputs": [],
   "source": []
  }
 ],
 "metadata": {
  "kernelspec": {
   "display_name": "Python 3 (ipykernel)",
   "language": "python",
   "name": "python3"
  },
  "language_info": {
   "codemirror_mode": {
    "name": "ipython",
    "version": 3
   },
   "file_extension": ".py",
   "mimetype": "text/x-python",
   "name": "python",
   "nbconvert_exporter": "python",
   "pygments_lexer": "ipython3",
   "version": "3.13.3"
  }
 },
 "nbformat": 4,
 "nbformat_minor": 5
}
