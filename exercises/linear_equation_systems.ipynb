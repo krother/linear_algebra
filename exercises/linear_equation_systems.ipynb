{
 "cells": [
  {
   "cell_type": "markdown",
   "id": "6972d7ea-4f31-46d5-8329-69138e5b416e",
   "metadata": {},
   "source": [
    "Linear Equation Systems\n",
    "=======================\n",
    "\n",
    "<img src=\"fruit.jpg\" alt=\"Drawing\" style=\"width: 500px;\"/>\n",
    "\n",
    "Image by [Jonas Kakaroto](https://unsplash.com/de/@jkakaroto?utm_content=creditCopyText&utm_medium=referral&utm_source=unsplash)\n",
    "on [Unsplash](https://unsplash.com/de/fotos/rote-apfelfrucht-neben-grunem-apfel-und-gelbe-frucht-auf-braun-geflochtenem-korb-5JQH9Iqnm9o?utm_content=creditCopyText&utm_medium=referral&utm_source=unsplash).\n",
    "\n",
    "In this exercise, we will use **linear equations** to find unknown\n",
    "variables.\n",
    "\n",
    "Consider the following four persons shopping fruit. You know how many\n",
    "items everybody has bought and how much they spent, but the item prices\n",
    "are unknown.\n",
    "\n",
    "| fruit   | apple 🍎 | banana 🍌 | cherry 🍒 | grapes 🍇 | **total** |\n",
    "|---------|----------|-----------|------------|------------|------------|\n",
    "| Ada     | 2        | 0         | 4          | 2          | 24         |\n",
    "| Bashir  | 1        | 2         | 6          | 4          | 39         |\n",
    "| Choi    | 2        | 0         | 8          | 8          | 58         |\n",
    "| Deryl   | 2        | 1         | 9          | 4          | 51         |\n",
    "\n",
    "We can treat this data as a set of linear equations:\n",
    "\n",
    "$$ada = 2 \\cdot apple + 0 \\cdot banana + 4 \\cdot cherry + 2 \\cdot grapes = 24$$\n",
    "\n",
    "$$bashir = 1 \\cdot apple + 2 \\cdot banana ...$$\n",
    "\n",
    "That is, we have four equations with four unknowns. You could use high\n",
    "school algebra to solve this manually."
   ]
  },
  {
   "cell_type": "markdown",
   "id": "f0d4b449-a4a1-4e87-92fc-0bb3403b7cc2",
   "metadata": {},
   "source": [
    "Matrix representation\n",
    "---------------------\n",
    "\n",
    "The shortcut linear algebra offers represents the fruit items as a\n",
    "matrix **F**, and the total bill as a column vector $\\vec{bills}$:"
   ]
  },
  {
   "cell_type": "code",
   "execution_count": 1,
   "id": "4469a240-5714-40f7-b8f4-5b60dadf96cf",
   "metadata": {},
   "outputs": [],
   "source": [
    "import numpy as np\n",
    "from numpy.linalg import inv, det"
   ]
  },
  {
   "cell_type": "code",
   "execution_count": 2,
   "id": "8ab94a43-f470-4374-a988-e90fa0c628a3",
   "metadata": {},
   "outputs": [],
   "source": [
    "F = np.array([\n",
    "    [2, 0, 4, 2],\n",
    "    [1, 2, 6, 4],\n",
    "    [2, 0, 8, 8],\n",
    "    [2, 1, 9, 4]])\n",
    "\n",
    "bills = np.array([24, 39, 58, 51])"
   ]
  },
  {
   "cell_type": "markdown",
   "id": "ba2d7369-6730-4114-a404-01d0341947d7",
   "metadata": {},
   "source": [
    "Is the equation system solvable?\n",
    "--------------------------------\n",
    "\n",
    "Not all linear equation systems are solvable. Some have an infinite\n",
    "number of solutions, others are not solvable at all.\n",
    "\n",
    "By checking, whether the matrix **F** is invertible, we verify that it\n",
    "is actually possible to solve the problem:"
   ]
  },
  {
   "cell_type": "code",
   "execution_count": 4,
   "id": "6c8fe38f-f87b-4ccd-acdc-af89d8f8982a",
   "metadata": {},
   "outputs": [],
   "source": [
    "G = inv(F)"
   ]
  },
  {
   "cell_type": "markdown",
   "id": "ecf6fbd4-56fa-4693-b38a-833f9103a290",
   "metadata": {},
   "source": [
    "When you multiply, the inverted matrix with the original one, you should\n",
    "obtain an identity matrix:"
   ]
  },
  {
   "cell_type": "code",
   "execution_count": 5,
   "id": "1d0f6fde-26af-4555-8f92-2a74649be90f",
   "metadata": {},
   "outputs": [
    {
     "data": {
      "text/plain": [
       "array([[1., 0., 0., 0.],\n",
       "       [0., 1., 0., 0.],\n",
       "       [0., 0., 1., 0.],\n",
       "       [0., 0., 0., 1.]])"
      ]
     },
     "execution_count": 5,
     "metadata": {},
     "output_type": "execute_result"
    }
   ],
   "source": [
    "np.dot(F, G) "
   ]
  },
  {
   "cell_type": "markdown",
   "id": "b935b5a1-00e4-4cbf-8a94-4cf344420c65",
   "metadata": {},
   "source": [
    "Another way to ensure the matrix is non-singular is checking that its\n",
    "**determinant** is nonzero:"
   ]
  },
  {
   "cell_type": "code",
   "execution_count": 8,
   "id": "a2e63b5e-c663-4610-a36b-039e1591af3b",
   "metadata": {},
   "outputs": [
    {
     "data": {
      "text/plain": [
       "np.float64(-63.99999999999998)"
      ]
     },
     "execution_count": 8,
     "metadata": {},
     "output_type": "execute_result"
    }
   ],
   "source": [
    "det(F)"
   ]
  },
  {
   "cell_type": "markdown",
   "id": "71fe2cc9-f5d6-4fe9-bc66-55b35e4490d9",
   "metadata": {},
   "source": [
    "Gauss-Jordan Elimination\n",
    "------------------------\n",
    "\n",
    "The [Gauss-Jordan Elimination](https://en.wikipedia.org/wiki/Gaussian_elimination)\n",
    "procedure now rearranges the values in the matrix to the **row echelon\n",
    "form** so that each row allows to determine one of the variable. NumPy\n",
    "does all the work for us:"
   ]
  },
  {
   "cell_type": "code",
   "execution_count": 7,
   "id": "355ff690-fc37-4d5a-8c58-af1e4736a1b9",
   "metadata": {},
   "outputs": [
    {
     "data": {
      "text/plain": [
       "array([1., 1., 4., 3.])"
      ]
     },
     "execution_count": 7,
     "metadata": {},
     "output_type": "execute_result"
    }
   ],
   "source": [
    "prices = np.linalg.solve(F, bills)\n",
    "prices"
   ]
  },
  {
   "cell_type": "markdown",
   "id": "4af21735-995c-4d6a-b75e-482912e4cfb1",
   "metadata": {},
   "source": [
    "Use the dot product to check whether you can reproduce the original\n",
    "bills:"
   ]
  },
  {
   "cell_type": "code",
   "execution_count": null,
   "id": "b1e0c26a-b6f3-413f-9d2a-44146b1429dd",
   "metadata": {},
   "outputs": [],
   "source": [
    "np.dot(..., ...)"
   ]
  },
  {
   "cell_type": "markdown",
   "id": "2fbc7ca8-f572-492f-849a-c4c181a14314",
   "metadata": {},
   "source": [
    "#### Warning\n",
    "\n",
    "If you accidentally transpose the matrix, you will get an entirely\n",
    "different result. In this case, some prices will be negative. But it is\n",
    "important to make some manual sanity check if the numbers are\n",
    "reasonable.\n",
    "\n",
    "Unsolvable matrices\n",
    "-------------------\n",
    "\n",
    "Not all square matrices can be inverted. They are **singular**. For\n",
    "instance, when nobody has bought any bananas, we won\\'t be able to\n",
    "figure out the price:"
   ]
  },
  {
   "cell_type": "code",
   "execution_count": 3,
   "id": "1a33bb2b-99bd-4f3c-8717-300daf74a746",
   "metadata": {},
   "outputs": [
    {
     "ename": "LinAlgError",
     "evalue": "Singular matrix",
     "output_type": "error",
     "traceback": [
      "\u001b[31m---------------------------------------------------------------------------\u001b[39m",
      "\u001b[31mLinAlgError\u001b[39m                               Traceback (most recent call last)",
      "\u001b[36mCell\u001b[39m\u001b[36m \u001b[39m\u001b[32mIn[3]\u001b[39m\u001b[32m, line 7\u001b[39m\n\u001b[32m      1\u001b[39m F2 = np.array([\n\u001b[32m      2\u001b[39m      [\u001b[32m2\u001b[39m, \u001b[32m0\u001b[39m, \u001b[32m4\u001b[39m, \u001b[32m2\u001b[39m],\n\u001b[32m      3\u001b[39m      [\u001b[32m1\u001b[39m, \u001b[32m0\u001b[39m, \u001b[32m6\u001b[39m, \u001b[32m4\u001b[39m],\n\u001b[32m      4\u001b[39m      [\u001b[32m2\u001b[39m, \u001b[32m0\u001b[39m, \u001b[32m8\u001b[39m, \u001b[32m8\u001b[39m],\n\u001b[32m      5\u001b[39m      [\u001b[32m2\u001b[39m, \u001b[32m0\u001b[39m, \u001b[32m9\u001b[39m, \u001b[32m4\u001b[39m]])\n\u001b[32m----> \u001b[39m\u001b[32m7\u001b[39m \u001b[43minv\u001b[49m\u001b[43m(\u001b[49m\u001b[43mF2\u001b[49m\u001b[43m)\u001b[49m\n",
      "\u001b[36mFile \u001b[39m\u001b[32m~\\AppData\\Local\\Programs\\Python\\Python313\\Lib\\site-packages\\numpy\\linalg\\_linalg.py:609\u001b[39m, in \u001b[36minv\u001b[39m\u001b[34m(a)\u001b[39m\n\u001b[32m    606\u001b[39m signature = \u001b[33m'\u001b[39m\u001b[33mD->D\u001b[39m\u001b[33m'\u001b[39m \u001b[38;5;28;01mif\u001b[39;00m isComplexType(t) \u001b[38;5;28;01melse\u001b[39;00m \u001b[33m'\u001b[39m\u001b[33md->d\u001b[39m\u001b[33m'\u001b[39m\n\u001b[32m    607\u001b[39m \u001b[38;5;28;01mwith\u001b[39;00m errstate(call=_raise_linalgerror_singular, invalid=\u001b[33m'\u001b[39m\u001b[33mcall\u001b[39m\u001b[33m'\u001b[39m,\n\u001b[32m    608\u001b[39m               over=\u001b[33m'\u001b[39m\u001b[33mignore\u001b[39m\u001b[33m'\u001b[39m, divide=\u001b[33m'\u001b[39m\u001b[33mignore\u001b[39m\u001b[33m'\u001b[39m, under=\u001b[33m'\u001b[39m\u001b[33mignore\u001b[39m\u001b[33m'\u001b[39m):\n\u001b[32m--> \u001b[39m\u001b[32m609\u001b[39m     ainv = \u001b[43m_umath_linalg\u001b[49m\u001b[43m.\u001b[49m\u001b[43minv\u001b[49m\u001b[43m(\u001b[49m\u001b[43ma\u001b[49m\u001b[43m,\u001b[49m\u001b[43m \u001b[49m\u001b[43msignature\u001b[49m\u001b[43m=\u001b[49m\u001b[43msignature\u001b[49m\u001b[43m)\u001b[49m\n\u001b[32m    610\u001b[39m \u001b[38;5;28;01mreturn\u001b[39;00m wrap(ainv.astype(result_t, copy=\u001b[38;5;28;01mFalse\u001b[39;00m))\n",
      "\u001b[36mFile \u001b[39m\u001b[32m~\\AppData\\Local\\Programs\\Python\\Python313\\Lib\\site-packages\\numpy\\linalg\\_linalg.py:104\u001b[39m, in \u001b[36m_raise_linalgerror_singular\u001b[39m\u001b[34m(err, flag)\u001b[39m\n\u001b[32m    103\u001b[39m \u001b[38;5;28;01mdef\u001b[39;00m\u001b[38;5;250m \u001b[39m\u001b[34m_raise_linalgerror_singular\u001b[39m(err, flag):\n\u001b[32m--> \u001b[39m\u001b[32m104\u001b[39m     \u001b[38;5;28;01mraise\u001b[39;00m LinAlgError(\u001b[33m\"\u001b[39m\u001b[33mSingular matrix\u001b[39m\u001b[33m\"\u001b[39m)\n",
      "\u001b[31mLinAlgError\u001b[39m: Singular matrix"
     ]
    }
   ],
   "source": [
    "F2 = np.array([\n",
    "     [2, 0, 4, 2],\n",
    "     [1, 0, 6, 4],\n",
    "     [2, 0, 8, 8],\n",
    "     [2, 0, 9, 4]])\n",
    "\n",
    "inv(F2)"
   ]
  },
  {
   "cell_type": "markdown",
   "id": "4cf4fa53-597f-418e-baf5-d32162c2dd4d",
   "metadata": {},
   "source": [
    "This should result in an error without even looking at the prices.\n",
    "\n",
    "Matrices are also singular when rows are **colinear** (multiples of each\n",
    "other):"
   ]
  },
  {
   "cell_type": "code",
   "execution_count": 9,
   "id": "5fe42523-b942-44ca-933f-968e3859e53a",
   "metadata": {},
   "outputs": [
    {
     "ename": "LinAlgError",
     "evalue": "Singular matrix",
     "output_type": "error",
     "traceback": [
      "\u001b[31m---------------------------------------------------------------------------\u001b[39m",
      "\u001b[31mLinAlgError\u001b[39m                               Traceback (most recent call last)",
      "\u001b[36mCell\u001b[39m\u001b[36m \u001b[39m\u001b[32mIn[9]\u001b[39m\u001b[32m, line 2\u001b[39m\n\u001b[32m      1\u001b[39m F3 = np.array([[\u001b[32m3\u001b[39m, \u001b[32m1\u001b[39m, \u001b[32m50\u001b[39m], [\u001b[32m10\u001b[39m, \u001b[32m10\u001b[39m, \u001b[32m10\u001b[39m], [\u001b[32m20\u001b[39m, \u001b[32m20\u001b[39m, \u001b[32m20\u001b[39m]])\n\u001b[32m----> \u001b[39m\u001b[32m2\u001b[39m \u001b[43minv\u001b[49m\u001b[43m(\u001b[49m\u001b[43mF3\u001b[49m\u001b[43m)\u001b[49m\n",
      "\u001b[36mFile \u001b[39m\u001b[32m~\\AppData\\Local\\Programs\\Python\\Python313\\Lib\\site-packages\\numpy\\linalg\\_linalg.py:609\u001b[39m, in \u001b[36minv\u001b[39m\u001b[34m(a)\u001b[39m\n\u001b[32m    606\u001b[39m signature = \u001b[33m'\u001b[39m\u001b[33mD->D\u001b[39m\u001b[33m'\u001b[39m \u001b[38;5;28;01mif\u001b[39;00m isComplexType(t) \u001b[38;5;28;01melse\u001b[39;00m \u001b[33m'\u001b[39m\u001b[33md->d\u001b[39m\u001b[33m'\u001b[39m\n\u001b[32m    607\u001b[39m \u001b[38;5;28;01mwith\u001b[39;00m errstate(call=_raise_linalgerror_singular, invalid=\u001b[33m'\u001b[39m\u001b[33mcall\u001b[39m\u001b[33m'\u001b[39m,\n\u001b[32m    608\u001b[39m               over=\u001b[33m'\u001b[39m\u001b[33mignore\u001b[39m\u001b[33m'\u001b[39m, divide=\u001b[33m'\u001b[39m\u001b[33mignore\u001b[39m\u001b[33m'\u001b[39m, under=\u001b[33m'\u001b[39m\u001b[33mignore\u001b[39m\u001b[33m'\u001b[39m):\n\u001b[32m--> \u001b[39m\u001b[32m609\u001b[39m     ainv = \u001b[43m_umath_linalg\u001b[49m\u001b[43m.\u001b[49m\u001b[43minv\u001b[49m\u001b[43m(\u001b[49m\u001b[43ma\u001b[49m\u001b[43m,\u001b[49m\u001b[43m \u001b[49m\u001b[43msignature\u001b[49m\u001b[43m=\u001b[49m\u001b[43msignature\u001b[49m\u001b[43m)\u001b[49m\n\u001b[32m    610\u001b[39m \u001b[38;5;28;01mreturn\u001b[39;00m wrap(ainv.astype(result_t, copy=\u001b[38;5;28;01mFalse\u001b[39;00m))\n",
      "\u001b[36mFile \u001b[39m\u001b[32m~\\AppData\\Local\\Programs\\Python\\Python313\\Lib\\site-packages\\numpy\\linalg\\_linalg.py:104\u001b[39m, in \u001b[36m_raise_linalgerror_singular\u001b[39m\u001b[34m(err, flag)\u001b[39m\n\u001b[32m    103\u001b[39m \u001b[38;5;28;01mdef\u001b[39;00m\u001b[38;5;250m \u001b[39m\u001b[34m_raise_linalgerror_singular\u001b[39m(err, flag):\n\u001b[32m--> \u001b[39m\u001b[32m104\u001b[39m     \u001b[38;5;28;01mraise\u001b[39;00m LinAlgError(\u001b[33m\"\u001b[39m\u001b[33mSingular matrix\u001b[39m\u001b[33m\"\u001b[39m)\n",
      "\u001b[31mLinAlgError\u001b[39m: Singular matrix"
     ]
    }
   ],
   "source": [
    "F3 = np.array([[3, 1, 50], [10, 10, 10], [20, 20, 20]])\n",
    "inv(F3)"
   ]
  },
  {
   "cell_type": "markdown",
   "id": "ea39920f-cf26-4be3-9bdc-c47e83aa47fb",
   "metadata": {},
   "source": [
    "Apply some changes to make these matrices invertible.\n",
    "\n",
    "For many singular matrices it is not immediately obvious what exactly is\n",
    "making them singular.\n",
    "\n",
    "Visualize the matrix\n",
    "--------------------\n",
    "\n",
    "To visualize the fruit baskets I recommend a grouped bar plot:"
   ]
  },
  {
   "cell_type": "code",
   "execution_count": 10,
   "id": "7e5e5555-7bc4-4233-af81-5c91db1c0839",
   "metadata": {},
   "outputs": [
    {
     "data": {
      "text/plain": [
       "Text(0.5, 0, 'fruit [kg]')"
      ]
     },
     "execution_count": 10,
     "metadata": {},
     "output_type": "execute_result"
    },
    {
     "data": {
      "text/plain": [
       "<Figure size 400x400 with 0 Axes>"
      ]
     },
     "metadata": {},
     "output_type": "display_data"
    },
    {
     "data": {
      "image/png": "[encoded data removed]",
      "text/plain": [
       "<Figure size 640x480 with 1 Axes>"
      ]
     },
     "metadata": {},
     "output_type": "display_data"
    }
   ],
   "source": [
    "import pandas as pd\n",
    "from matplotlib import pyplot as plt\n",
    "\n",
    "plt.figure(figsize=(4, 4))\n",
    "df = pd.DataFrame(F, columns=[\"apple\", \"banana\", \"cherry\", \"grapes\"],\n",
    "                  index=[\"Ada\", \"Bashir\", \"Choi\", \"Deryl\"])\n",
    "df.plot.barh()\n",
    "plt.xlabel(\"fruit [kg]\")"
   ]
  },
  {
   "cell_type": "markdown",
   "id": "8e485b06-a9e1-44ff-a6a9-b6fc7719ba67",
   "metadata": {},
   "source": [
    "### Links\n",
    "Linear Equations go much deeper. Here are some starting points:\n",
    "\n",
    "-   The [Gurobi Burrito Optimization\n",
    "    Game](https://www.gurobi.com/burrito-optimization-game/) lets you\n",
    "    explor more complex linear problems.\n",
    "-   [PuLP](https://coin-or.github.io/pulp/) is a free linear problem\n",
    "    solver for Python.\n",
    "-   [Gauss-Jordan Elimination on\n",
    "    Wikipedia](https://en.wikipedia.org/wiki/Gaussian_elimination)\n",
    ":::"
   ]
  },
  {
   "cell_type": "code",
   "execution_count": null,
   "id": "0db36ef4-109a-491a-ae14-537e99b4f1e7",
   "metadata": {},
   "outputs": [],
   "source": []
  }
 ],
 "metadata": {
  "kernelspec": {
   "display_name": "Python 3 (ipykernel)",
   "language": "python",
   "name": "python3"
  },
  "language_info": {
   "codemirror_mode": {
    "name": "ipython",
    "version": 3
   },
   "file_extension": ".py",
   "mimetype": "text/x-python",
   "name": "python",
   "nbconvert_exporter": "python",
   "pygments_lexer": "ipython3",
   "version": "3.13.3"
  }
 },
 "nbformat": 4,
 "nbformat_minor": 5
}
