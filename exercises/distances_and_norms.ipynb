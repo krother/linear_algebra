{
 "cells": [
  {
   "cell_type": "markdown",
   "id": "118a0b9a-349f-40f2-85eb-b6a94e206242",
   "metadata": {},
   "source": [
    "Distances and Norms\n",
    "===================\n",
    "\n",
    "<img src=\"penguins.png\" alt=\"Drawing\" style=\"width: 500px;\"/>\n",
    "\n",
    "*Palmerpenguins Artwork by \\@allison\\_horst*\n",
    "\n",
    "In this exercise you will compare vectors using three different methods.\n",
    "You will calculate the length of vectors using **norms**, and the angle\n",
    "between two vectors using the **cosine similarity**. We will do all this\n",
    "with a dataset of 333 penguins:"
   ]
  },
  {
   "cell_type": "code",
   "execution_count": null,
   "id": "0774ddbc-ef65-417e-a67c-32f9045754dd",
   "metadata": {},
   "outputs": [],
   "source": [
    "import numpy as np\n",
    "import pandas as pd\n",
    "import seaborn as sns\n",
    "from matplotlib import pyplot as plt"
   ]
  },
  {
   "cell_type": "code",
   "execution_count": null,
   "id": "29574969-8e83-4750-be78-5ded5ee1e693",
   "metadata": {},
   "outputs": [],
   "source": [
    "data = sns.load_dataset(\"penguins\")\n",
    "data = data.dropna()  # remove missing values\n",
    "data.head()"
   ]
  },
  {
   "cell_type": "markdown",
   "id": "24038ecd-4752-4cfd-82d4-b31805435e1a",
   "metadata": {},
   "source": [
    "### select numerical columns\n",
    "We store the numerical features in a matrix **X** for the following\n",
    "exercises."
   ]
  },
  {
   "cell_type": "code",
   "execution_count": null,
   "id": "d9bdafcb-fdf6-4504-8041-46b44798b65e",
   "metadata": {},
   "outputs": [],
   "source": [
    "X = data[[\"body_mass_g\", \"flipper_length_mm\", \"bill_length_mm\", \"bill_depth_mm\"]]"
   ]
  },
  {
   "cell_type": "markdown",
   "id": "c7d4abc0-2de0-4fd7-ac91-7073459a979b",
   "metadata": {},
   "source": [
    "L1 Norm or Manhattan Distance\n",
    "-----------------------------\n",
    "\n",
    "The L1 norm or Manhattan Distance sums up the difference along each\n",
    "axis:\n",
    "\n",
    "$$||\\vec{a}||_1 = \\sum_i |a_i|$$\n",
    "\n",
    "The Python code below implements the Manhattan Distance as a reusable\n",
    "function:"
   ]
  },
  {
   "cell_type": "code",
   "execution_count": null,
   "id": "60b7de88-f539-4329-910b-3db9063e8615",
   "metadata": {},
   "outputs": [],
   "source": [
    "def manhattan_dist(a, b):\n",
    "    return np.abs(a - b).sum()"
   ]
  },
  {
   "cell_type": "markdown",
   "id": "c855f764-20f1-434f-803b-94e0310cee35",
   "metadata": {},
   "source": [
    "To calculate the distance between the first and second penguin, use:"
   ]
  },
  {
   "cell_type": "code",
   "execution_count": null,
   "id": "7107c5e5-5503-4104-9d4c-d8d3ef31ec1c",
   "metadata": {},
   "outputs": [],
   "source": [
    "manhattan_dist(X.values[0], X.values[1])"
   ]
  },
  {
   "cell_type": "markdown",
   "id": "061f453b-5fbb-4002-b4ef-3020e8d42023",
   "metadata": {},
   "source": [
    "L2 Norm or Euclidean Distance\n",
    "-----------------------------\n",
    "\n",
    "The L2 norm squares the numbers before summing them up. It is using the\n",
    "same logic as the Pythagorean theorem, only with potentially a lot more\n",
    "dimensions:\n",
    "\n",
    "$$||\\vec{a}||_2 = \\sqrt{\\sum_i a_i^2}$$\n",
    "\n",
    "You can use the Python function in an equivalent way:"
   ]
  },
  {
   "cell_type": "code",
   "execution_count": null,
   "id": "80b1ada7-0a04-4e19-866a-773b8a254208",
   "metadata": {},
   "outputs": [],
   "source": [
    "def euclidean_dist(a, b):\n",
    "    return np.sqrt(((a - b) ** 2).sum())"
   ]
  },
  {
   "cell_type": "markdown",
   "id": "fdd6cd21-3300-4178-9d03-4fded8245fe5",
   "metadata": {},
   "source": [
    "Cosine similarity\n",
    "-----------------\n",
    "\n",
    "An alternative that works well in high-dimensional spaces is calculating\n",
    "the angle between the two vectors:\n",
    "\n",
    "$$cos(\\theta) = \\frac{\\vec{a} \\cdot \\vec{b}}{||\\vec{a}||_2 \\cdot ||\\vec{b}||_2}$$\n",
    "\n",
    "and in Python:"
   ]
  },
  {
   "cell_type": "code",
   "execution_count": null,
   "id": "fc4e8a8d-a2d7-4909-92c5-a8a88024af78",
   "metadata": {},
   "outputs": [],
   "source": [
    "def cosine_similarity(a, b):\n",
    "    norma = np.sqrt((a ** 2).sum())\n",
    "    normb = np.sqrt((b ** 2).sum())\n",
    "    return np.dot(a, b) / (norma * normb)"
   ]
  },
  {
   "cell_type": "markdown",
   "id": "2478da8a-1829-4d77-a635-ef6d647b7c67",
   "metadata": {},
   "source": [
    "The cosine function explains why the dot product is zero if two vectors\n",
    "are orthogonal.\n",
    "\n",
    "Scaling\n",
    "-------\n",
    "\n",
    "When you try the cosine similarity function, you will notice that the\n",
    "cosine values are very close to 1 (almost identical). Part of the reason\n",
    "is that the body mass of the penguins dominates the other numbers. This\n",
    "problem also was present with the L1/L2 norm, but less dramatic. Lets\n",
    "scale the data so that all columns have values between 0 and 1\n",
    "(min-max-scaling):\n",
    "\n",
    "$$x_{scaled} = \\frac{x - min(x)} {max(x) - min(x)}$$\n",
    "\n",
    "Fortunately NumPy and pandas make this very straightforward:"
   ]
  },
  {
   "cell_type": "code",
   "execution_count": null,
   "id": "574a74a8-c251-4883-a3a2-a77f1797051b",
   "metadata": {},
   "outputs": [],
   "source": [
    "Xscaled = (X - np.min(X, axis=0)) / (np.max(X, axis=0) - np.min(X, axis=0))"
   ]
  },
  {
   "cell_type": "markdown",
   "id": "a9e761e1-b921-4923-9084-3b57855ed783",
   "metadata": {},
   "source": [
    "Now you should see a considerable difference between the first and 300th\n",
    "penguin:"
   ]
  },
  {
   "cell_type": "code",
   "execution_count": null,
   "id": "e5d61f58-596c-430c-916b-896aadf72ee2",
   "metadata": {},
   "outputs": [],
   "source": [
    "cosine_similarity(Xscaled.values[0], Xscaled.values[300])"
   ]
  },
  {
   "cell_type": "markdown",
   "id": "65a98df1-0313-4f98-abb8-7d3d10cb49a7",
   "metadata": {},
   "source": [
    "Penguin search\n",
    "--------------\n",
    "\n",
    "You can use any of the norms and distances to find similar penguins in\n",
    "the dataset. Here is a straightforward code sniplet:"
   ]
  },
  {
   "cell_type": "code",
   "execution_count": null,
   "id": "91e3c99b-a947-4e88-8de6-bc4f5b58692c",
   "metadata": {},
   "outputs": [],
   "source": [
    "best_dist = 99999999999999999\n",
    "index = 0\n",
    "query = np.array([0.5, 0.5, 0.5, 0.5])  # a perfectly average penguin\n",
    "\n",
    "for i, pingu in enumerate(Xscaled.values):\n",
    "    dist = manhattan_dist(query, pingu)\n",
    "    if i > 0 and dist <= best_dist:\n",
    "        best_dist = dist\n",
    "        index = i\n",
    "\n",
    "print(\"best match:\", data.iloc[index])"
   ]
  },
  {
   "cell_type": "markdown",
   "id": "5f6f411b-c20e-4938-85cf-9ac2053b2b27",
   "metadata": {},
   "source": [
    "Check if the choice of metric leads to a different result."
   ]
  },
  {
   "cell_type": "markdown",
   "id": "65c976f0-332b-4faf-9fa3-453691034c78",
   "metadata": {},
   "source": [
    "Clustering\n",
    "----------\n",
    "\n",
    "A more interesting approach is to calculate the distances between\n",
    "**all** penguins. This leads us to a new type of square matrix, the\n",
    "**distance matrix**. It should have a shape of *(333, 333)* and contain\n",
    "the distances for each pair of penguins:"
   ]
  },
  {
   "cell_type": "code",
   "execution_count": null,
   "id": "299c03ac-0c17-441b-bd60-7d0c05803c27",
   "metadata": {},
   "outputs": [],
   "source": [
    "dist_matrix = np.array([\n",
    "    [\n",
    "    euclidean_dist(p1, p2) \n",
    "    for p1 in Xscaled.values\n",
    "    ]\n",
    "    for p2 in Xscaled.values\n",
    "])\n",
    "dist_matrix.shape"
   ]
  },
  {
   "cell_type": "markdown",
   "id": "92d2059a-7f8d-4a8d-88e5-83c26c135d5e",
   "metadata": {},
   "source": [
    "Inspecing the numbers in a distance matrix can be quite a pain, but they\n",
    "are fortunately easy to visualize. Here, plot a **similarity matrix**,\n",
    "the exact opposite of the distance matrix:"
   ]
  },
  {
   "cell_type": "code",
   "execution_count": null,
   "id": "75b23c24-11d7-4495-af48-47ca789c1b4a",
   "metadata": {},
   "outputs": [],
   "source": [
    "sim_matrix = 1 - dist_matrix\n",
    "sns.heatmap(sim_matrix, vmin=0.0, vmax=1.0)\n",
    "plt.xticks([], [])\n",
    "plt.yticks([], [])"
   ]
  },
  {
   "cell_type": "markdown",
   "id": "6a8c5ffe-1c2d-4bf1-a1c6-b5a0da797c9a",
   "metadata": {},
   "source": [
    "How many groups of penguins do you see?"
   ]
  },
  {
   "cell_type": "markdown",
   "id": "e66bc5b6-58d6-4029-ada5-57659f6c4375",
   "metadata": {},
   "source": [
    "Optional: KMeans Clustering\n",
    "---------------------------\n",
    "\n",
    "The `scikit-learn` package contains many clustering algorithms, e.g.\n",
    "**k-Means**:"
   ]
  },
  {
   "cell_type": "code",
   "execution_count": null,
   "id": "0e30eb3a-e7c9-4c94-a2f6-66e9fe241af5",
   "metadata": {},
   "outputs": [],
   "source": [
    "from sklearn.cluster import KMeans\n",
    "\n",
    "m = KMeans(n_clusters=3).fit(X)\n",
    "clusters = m.predict(X)\n",
    "data[\"cluster\"] = clusters.astype(str)\n",
    "\n",
    "plt.figure(figsize=(4, 4))\n",
    "sns.scatterplot(data=data, x=\"bill_length_mm\", y=\"body_mass_g\", hue=\"cluster\")"
   ]
  },
  {
   "cell_type": "markdown",
   "id": "4d80abda-ed7e-4be1-8be6-9a739b4b778a",
   "metadata": {},
   "source": [
    "**What is wrong with the clustering?**"
   ]
  },
  {
   "cell_type": "code",
   "execution_count": null,
   "id": "1dae43aa-96f9-4f87-98b2-aff9bb65916a",
   "metadata": {},
   "outputs": [],
   "source": []
  }
 ],
 "metadata": {
  "kernelspec": {
   "display_name": "Python 3 (ipykernel)",
   "language": "python",
   "name": "python3"
  },
  "language_info": {
   "codemirror_mode": {
    "name": "ipython",
    "version": 3
   },
   "file_extension": ".py",
   "mimetype": "text/x-python",
   "name": "python",
   "nbconvert_exporter": "python",
   "pygments_lexer": "ipython3",
   "version": "3.13.3"
  }
 },
 "nbformat": 4,
 "nbformat_minor": 5
}
