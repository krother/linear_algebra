{
 "cells": [
  {
   "cell_type": "markdown",
   "id": "47bef385-fa00-4d4a-8991-9f8b5e52374d",
   "metadata": {},
   "source": [
    "Recommender\n",
    "===========\n",
    "\n",
    "<img src=\"nmf.png\" alt=\"Drawing\" style=\"width: 500px;\"/>\n",
    "\n",
    "In this exercise, you will take a look at **Matrix Factorization**. It\n",
    "can be used to build a straightforward **recommender system**."
   ]
  },
  {
   "cell_type": "code",
   "execution_count": null,
   "id": "a6175584-2225-4344-88be-ce80985b586b",
   "metadata": {},
   "outputs": [],
   "source": [
    "import numpy as np\n",
    "import pandas as pd\n",
    "from matplotlib import pyplot as plt"
   ]
  },
  {
   "cell_type": "markdown",
   "id": "3fba7dd5-f7ae-4489-9bc1-e2ce533ec629",
   "metadata": {},
   "source": [
    "Let\\'s consider 5 movies and 5 persons:"
   ]
  },
  {
   "cell_type": "code",
   "execution_count": null,
   "id": "a80e4e99-1eca-4f11-8e3b-e2e41f85ecce",
   "metadata": {},
   "outputs": [],
   "source": [
    "movies = [\"Titanic\", \"Barbie\", \"Shrek\", \"Dune\", \"Star Trek\"]\n",
    "persons = [\"Ada\", \"Bashir\", \"Choi\", \"Deryl\", \"Elena\"]"
   ]
  },
  {
   "cell_type": "markdown",
   "id": "1d79bb4d-2522-473f-ae05-661d2d2e7594",
   "metadata": {},
   "source": [
    "Each person has rated some of the movies on a scale of 1 (worst) to 5\n",
    "(best). You can store these conveniently in a `pandas` DataFrame:"
   ]
  },
  {
   "cell_type": "code",
   "execution_count": null,
   "id": "44621059-e34d-4524-8954-22bda96f5543",
   "metadata": {},
   "outputs": [],
   "source": [
    "R = np.array([\n",
    "    [None, 3, 1, 4, 1],\n",
    "    [2, 4, 1, 5, None],\n",
    "    [3, 4, None, 5, None],\n",
    "    [5, None, 4, 2, 5],\n",
    "    [4, 1, 5, None, None],\n",
    "])\n",
    "R = pd.DataFrame(R, index=movies, columns=persons)\n",
    "R"
   ]
  },
  {
   "cell_type": "markdown",
   "id": "02314f35-5d34-4e8c-81d1-7f71eb09a4ee",
   "metadata": {},
   "source": [
    "Matrix Factorization\n",
    "--------------------\n",
    "\n",
    "Now we will build two other matrices **P** and **Q**. They add an\n",
    "**extra dimension** to the data. For better understanding, we will call\n",
    "this the *\\\"genre\\\"* of the movies. We will use two genres, *\\\"drama\\\"*\n",
    "and *\\\"sci-fi\\\"*.\n",
    "\n",
    "The first matrix **P** indicates how much each movie belongs to each\n",
    "genre. Add the remaining values:"
   ]
  },
  {
   "cell_type": "code",
   "execution_count": null,
   "id": "58994d25-b58f-4e76-b827-f59e56101150",
   "metadata": {},
   "outputs": [],
   "source": [
    "P = np.array([\n",
    "    [5, 1],   # [drama, scifi] for Titanic\n",
    "    ...       #\n",
    "])\n",
    "P.shape  # should be (5, 2)"
   ]
  },
  {
   "cell_type": "markdown",
   "id": "bf9a3088-05e3-4b4c-a130-c1fd76fbdfbe",
   "metadata": {},
   "source": [
    "The second matrix **Q** indicates how much each user likes each genre.\n",
    "Note that the dimensions are reversed here. Add the remaining values as\n",
    "well:"
   ]
  },
  {
   "cell_type": "code",
   "execution_count": null,
   "id": "373afeb4-61c0-4e2f-9372-8d60d7233c80",
   "metadata": {},
   "outputs": [],
   "source": [
    "Q = np.array([\n",
    "    [0, ...],   # drama\n",
    "    [4, ...],   # sci-fi\n",
    "])\n",
    "Q.shape  # should be (2, 5)"
   ]
  },
  {
   "cell_type": "markdown",
   "id": "051ca677-0a8a-4f70-ab26-62a11400168f",
   "metadata": {},
   "source": [
    "Rebuild the rating matrix\n",
    "-------------------------\n",
    "\n",
    "Now comes the linear algebra trick: We use **Matrix Multiplication** to\n",
    "reconstruct the ratings matrix. Lets call this matrix S:"
   ]
  },
  {
   "cell_type": "code",
   "execution_count": null,
   "id": "8c77699c-ca96-4875-a872-3823fc4b8e66",
   "metadata": {},
   "outputs": [],
   "source": [
    "S = np.dot(P, Q)"
   ]
  },
  {
   "cell_type": "markdown",
   "id": "728663fc-b7ae-44e5-b979-1667c926920b",
   "metadata": {},
   "source": [
    "It may help to normalize the values to a maximum of five:"
   ]
  },
  {
   "cell_type": "code",
   "execution_count": null,
   "id": "52f3b6de-f6b1-4043-9a15-75392eb84cb7",
   "metadata": {},
   "outputs": [],
   "source": [
    "S = 5 * S / S.max()\n",
    "S.round(1)"
   ]
  },
  {
   "cell_type": "markdown",
   "id": "983a74a9-b6ce-4a2e-ba95-89117ecc25bd",
   "metadata": {},
   "source": [
    "Frobenius Norm\n",
    "--------------\n",
    "\n",
    "If we chose the values in P and Q well, the matrices should be similar.\n",
    "Next, we will use the **Frobenius Norm** to calculate their difference.\n",
    "It is practically the same as the **L2 Norm**.\n",
    "\n",
    "Calculating the difference can be tricky because **R** contains missing\n",
    "values, but the `pandas` library takes that burden from us:"
   ]
  },
  {
   "cell_type": "code",
   "execution_count": null,
   "id": "d9fd60c3-87e1-446e-a9de-6365150cbaa1",
   "metadata": {},
   "outputs": [],
   "source": [
    "diff = R - S\n",
    "np.sqrt((diff ** 2).sum().sum())"
   ]
  },
  {
   "cell_type": "markdown",
   "id": "a2fb34d7-0052-4c9f-8da0-5b2aaadda858",
   "metadata": {},
   "source": [
    "Optimize\n",
    "--------\n",
    "\n",
    "Change the values in **P** and **Q** so that the Frobenius Norm becomes\n",
    "smaller.\n",
    "\n",
    "#### Hint\n",
    "There are many methods to factorize matrices automatically, like NMF or\n",
    "SVD. I kept the manual approach for illustrative purposes."
   ]
  },
  {
   "cell_type": "markdown",
   "id": "2a5ddfa1-659f-4d4c-8595-324cdbe66ef0",
   "metadata": {},
   "source": [
    "Predict\n",
    "-------\n",
    "\n",
    "Based on the predicted ratings in **S**, what movie would you recommend\n",
    "to **Elena**?"
   ]
  },
  {
   "cell_type": "markdown",
   "id": "00577b74-4c95-4b05-b967-02ccef7740e0",
   "metadata": {},
   "source": [
    "### Trained NMF "
   ]
  },
  {
   "cell_type": "code",
   "execution_count": null,
   "id": "52a7e60b-051b-476f-9e18-bb42ce2f225f",
   "metadata": {},
   "outputs": [],
   "source": [
    "from sklearn.decomposition import NMF\n",
    "\n",
    "R.fillna(0.0, inplace=True)\n",
    "\n",
    "nmf = NMF(n_components=2)\n",
    "nmf.fit(R)\n",
    "Q = nmf.components_\n",
    "P = nmf.transform(R)"
   ]
  },
  {
   "cell_type": "code",
   "execution_count": null,
   "id": "9f2f2d84-4a73-4b45-aacd-07100ebac695",
   "metadata": {},
   "outputs": [],
   "source": [
    "P"
   ]
  },
  {
   "cell_type": "code",
   "execution_count": null,
   "id": "8d302811-0f2b-48c3-bbbf-c04851af52a5",
   "metadata": {},
   "outputs": [],
   "source": [
    "Q"
   ]
  },
  {
   "cell_type": "code",
   "execution_count": null,
   "id": "91a4b420-e1ad-4f63-931b-172e8597f597",
   "metadata": {},
   "outputs": [],
   "source": [
    "# reconstruct R - fix the bug here\n",
    "Rpred = np.dot(Q, P)  \n",
    "Rpred.round(2)"
   ]
  },
  {
   "cell_type": "code",
   "execution_count": null,
   "id": "18d2338b-125b-40fb-8544-06417184745c",
   "metadata": {},
   "outputs": [],
   "source": [
    "pd.DataFrame(Rpred, index=movies, columns=persons).round(2)"
   ]
  },
  {
   "cell_type": "markdown",
   "id": "41b2c2a2-ce37-4bb5-8beb-3e837e2cf91c",
   "metadata": {},
   "source": [
    "### Links\n",
    "\n",
    "-   [Matrix Factorization on\n",
    "    Wikipedia](https://en.wikipedia.org/wiki/Matrix_factorization_(recommender_systems))\n",
    "-   [Non-Negative Matrix Factorization\n",
    "    (NMF)](https://scikit-learn.org/stable/modules/generated/sklearn.decomposition.NMF.html)\n",
    "-   [larger recommender example using\n",
    "    NMF](https://www.kaggle.com/code/bastisei/movie-recommendation-system-using-svd-and-nmf)"
   ]
  },
  {
   "cell_type": "code",
   "execution_count": null,
   "id": "64e66cc8-b451-4e01-9d7f-51b1fc88fd56",
   "metadata": {},
   "outputs": [],
   "source": []
  }
 ],
 "metadata": {
  "kernelspec": {
   "display_name": "Python 3 (ipykernel)",
   "language": "python",
   "name": "python3"
  },
  "language_info": {
   "codemirror_mode": {
    "name": "ipython",
    "version": 3
   },
   "file_extension": ".py",
   "mimetype": "text/x-python",
   "name": "python",
   "nbconvert_exporter": "python",
   "pygments_lexer": "ipython3",
   "version": "3.13.3"
  }
 },
 "nbformat": 4,
 "nbformat_minor": 5
}
