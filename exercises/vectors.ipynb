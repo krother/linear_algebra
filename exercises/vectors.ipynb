{
 "cells": [
  {
   "cell_type": "markdown",
   "id": "21131d0a-faf1-40c7-8654-025e02e84fbe",
   "metadata": {},
   "source": [
    "# Vectors"
   ]
  },
  {
   "cell_type": "code",
   "execution_count": null,
   "id": "744a94a1-aee9-4d04-8454-dfdd199a7218",
   "metadata": {},
   "outputs": [],
   "source": [
    "import math\n",
    "import numpy as np\n",
    "from matplotlib import pyplot as plt"
   ]
  },
  {
   "cell_type": "markdown",
   "id": "f6487c96-3956-408c-8581-216c4727ca42",
   "metadata": {},
   "source": [
    "## Eye Candy"
   ]
  },
  {
   "cell_type": "code",
   "execution_count": null,
   "id": "5efc843e-3a47-42c7-b6b0-f2645af69a3a",
   "metadata": {},
   "outputs": [],
   "source": [
    "plt.figure(figsize=(10, 4))\n",
    "x = np.linspace(0, 30, 1000)  # creates a vector of 1000 numbers\n",
    "for i in range(10):\n",
    "    y = np.sin(x + i * math.pi / 8)  # scalar multiplication\n",
    "    plt.plot(y)"
   ]
  },
  {
   "cell_type": "markdown",
   "id": "c054ba42-973f-4372-a266-e898c255edee",
   "metadata": {},
   "source": [
    "## Create Vectors\n",
    "\n",
    "Lets create a vector containing shopped fruit:"
   ]
  },
  {
   "cell_type": "code",
   "execution_count": null,
   "id": "89490b2d-d087-42b9-9292-fce06e293ff4",
   "metadata": {},
   "outputs": [],
   "source": [
    "# apples, bananas, cherries\n",
    "a = np.array([3, 1, 50])"
   ]
  },
  {
   "cell_type": "markdown",
   "id": "fef0cd64-f517-494f-a8d0-3021a69be8a0",
   "metadata": {},
   "source": [
    "Create a second vector that lists another shopping session for the same types of fruit in the same order"
   ]
  },
  {
   "cell_type": "code",
   "execution_count": null,
   "id": "c0adfb7a-e27b-4c83-a14b-f971ff6169b3",
   "metadata": {},
   "outputs": [],
   "source": [
    "b = ..."
   ]
  },
  {
   "cell_type": "markdown",
   "id": "fc15ac5c-e0ff-404e-b7c3-41265f5a7ce7",
   "metadata": {},
   "source": [
    "Add both fruit vectors together:"
   ]
  },
  {
   "cell_type": "code",
   "execution_count": null,
   "id": "d0c9f9cb-9bd8-412f-a15c-dd6b1589c09c",
   "metadata": {},
   "outputs": [],
   "source": [
    "fruit = a + b\n",
    "fruit"
   ]
  },
  {
   "cell_type": "markdown",
   "id": "1f8fe943-b7ea-455d-a8cb-430b534c1a07",
   "metadata": {},
   "source": [
    "Scalar multiplication\n",
    "---------------------\n",
    "\n",
    "Now shop 10 times as many fruit"
   ]
  },
  {
   "cell_type": "code",
   "execution_count": null,
   "id": "cc19dcdb-6a81-4472-be6c-31f638c23912",
   "metadata": {},
   "outputs": [],
   "source": [
    "fruit = fruit * ..."
   ]
  },
  {
   "cell_type": "markdown",
   "id": "87e62c8c-aad7-4aeb-bfe3-8d3abeeb5309",
   "metadata": {},
   "source": [
    "Plot the new vector:"
   ]
  },
  {
   "cell_type": "code",
   "execution_count": null,
   "id": "35f583f0-6d52-49c6-8fab-db1fd3163b70",
   "metadata": {},
   "outputs": [],
   "source": [
    "plt.bar(fruit)"
   ]
  },
  {
   "cell_type": "markdown",
   "id": "a9b05ad0-9cdc-4dbd-98eb-bfe26657ee3d",
   "metadata": {},
   "source": [
    "Position-wise multiplication\n",
    "----------------------------\n",
    "Define a set of fruit prices"
   ]
  },
  {
   "cell_type": "code",
   "execution_count": null,
   "id": "6681bd1b-351d-43af-a778-fd3ff01a3a19",
   "metadata": {},
   "outputs": [],
   "source": [
    "prices = np.array([1.0, 0.5, 0.05])"
   ]
  },
  {
   "cell_type": "markdown",
   "id": "77ebe670-fb77-4c8f-93e4-c7a04cf6422e",
   "metadata": {},
   "source": [
    "See how much each position costs"
   ]
  },
  {
   "cell_type": "code",
   "execution_count": null,
   "id": "ecf2cbf2-d8f7-44a6-84ce-be0aedddd9da",
   "metadata": {},
   "outputs": [],
   "source": [
    "fruit * prices"
   ]
  },
  {
   "cell_type": "markdown",
   "id": "d9b48bb8-fb9b-4833-bc9a-b3a78934ddda",
   "metadata": {},
   "source": [
    "Dot product\n",
    "-----------\n",
    "\n",
    "The dot product calculates the total amount on the bill:"
   ]
  },
  {
   "cell_type": "code",
   "execution_count": null,
   "id": "72cc9b90-e498-43fc-97f6-d0c9bf8cec28",
   "metadata": {},
   "outputs": [],
   "source": [
    "np.dot(fruit, prices)"
   ]
  },
  {
   "cell_type": "markdown",
   "id": "86102d0d-356d-4183-81f7-c238d0b54941",
   "metadata": {},
   "source": [
    "Cross Product\n",
    "-------------\n",
    "\n",
    "The cross product does not make much sense with fruit shopping.\n",
    "Instead, define two *x, y, z* vectors:"
   ]
  },
  {
   "cell_type": "code",
   "execution_count": null,
   "id": "0e36e7f6-5028-4662-9e8e-c070b86ff9a9",
   "metadata": {},
   "outputs": [],
   "source": [
    "a = np.array([2, 0, 0])\n",
    "b = np.array([0, 1, 0])\n",
    "np.cross(a, b)"
   ]
  },
  {
   "cell_type": "markdown",
   "id": "c2f03441-ae6f-4cdd-a228-e62cac2ae5ba",
   "metadata": {},
   "source": [
    "Check the following:\n",
    "\n",
    "- what happens if you swap the arguments of the cross product?\n",
    "- what happens if you calculate the cross products of a vector with itself?\n",
    "- what happens if you calculate a dot product from a with the cross product of a and b?"
   ]
  },
  {
   "cell_type": "markdown",
   "id": "e08da9b4-994b-4f08-b62a-4623e875506b",
   "metadata": {},
   "source": [
    "Colinear and orthogonal vectors\n",
    "-------------------------------\n",
    "\n",
    "Which vectors are colinear, which are orthogonal?"
   ]
  },
  {
   "cell_type": "code",
   "execution_count": null,
   "id": "ed3aa49c-683b-470e-8ee4-0f3e2cc33152",
   "metadata": {},
   "outputs": [],
   "source": [
    "a = np.array([1, 2])\n",
    "b = np.array([-1, -2])\n",
    "c = np.array([2, 4])\n",
    "d = np.array([1, -2])\n",
    "e = np.array([-2, 1])"
   ]
  },
  {
   "cell_type": "code",
   "execution_count": null,
   "id": "a6eca0f7-51f7-4cb0-a36a-f5635d0b78dc",
   "metadata": {},
   "outputs": [],
   "source": []
  },
  {
   "cell_type": "markdown",
   "id": "cc933c50-1f86-4a79-bf51-aa5c0aeb83db",
   "metadata": {},
   "source": [
    "Useful NumPy phrases\n",
    "--------------------\n",
    "\n",
    "Create a large vector "
   ]
  },
  {
   "cell_type": "code",
   "execution_count": null,
   "id": "cde6b3a6-1772-49a4-bac7-161e96bdecf3",
   "metadata": {},
   "outputs": [],
   "source": [
    "a = np.arange(100)"
   ]
  },
  {
   "cell_type": "markdown",
   "id": "5eacec9a-7539-4774-aefe-4959372f13cc",
   "metadata": {},
   "source": [
    "Create a vector with interpolated numbers"
   ]
  },
  {
   "cell_type": "code",
   "execution_count": null,
   "id": "544af7d4-b730-4ca6-a5aa-185dd09c690c",
   "metadata": {},
   "outputs": [],
   "source": [
    "b = np.linspace(10, 20, 100)"
   ]
  },
  {
   "cell_type": "markdown",
   "id": "b7e10416-f281-4410-b87c-e8e3b7e7083e",
   "metadata": {},
   "source": [
    "Draw a parabola by filling the gaps:"
   ]
  },
  {
   "cell_type": "code",
   "execution_count": null,
   "id": "c051a90d-61ea-4955-9655-9cc3585fd2df",
   "metadata": {},
   "outputs": [],
   "source": [
    "x = np.linspace(...)\n",
    "y = ...\n",
    "plt.plot(x, y)"
   ]
  },
  {
   "cell_type": "markdown",
   "id": "bf613c34-b37c-4480-a041-878e018ecf93",
   "metadata": {},
   "source": [
    "Plot a random vector:"
   ]
  },
  {
   "cell_type": "code",
   "execution_count": null,
   "id": "3666e44e-bba2-44b5-a8f8-df447fc76747",
   "metadata": {},
   "outputs": [],
   "source": [
    "v = np.random.normal(0, 10, 1000)\n",
    "plt.plot(v)"
   ]
  },
  {
   "cell_type": "code",
   "execution_count": null,
   "id": "437805fd-0b66-43cc-a1b9-d184879be524",
   "metadata": {},
   "outputs": [],
   "source": []
  }
 ],
 "metadata": {
  "kernelspec": {
   "display_name": "Python 3 (ipykernel)",
   "language": "python",
   "name": "python3"
  },
  "language_info": {
   "codemirror_mode": {
    "name": "ipython",
    "version": 3
   },
   "file_extension": ".py",
   "mimetype": "text/x-python",
   "name": "python",
   "nbconvert_exporter": "python",
   "pygments_lexer": "ipython3",
   "version": "3.13.3"
  }
 },
 "nbformat": 4,
 "nbformat_minor": 5
}
